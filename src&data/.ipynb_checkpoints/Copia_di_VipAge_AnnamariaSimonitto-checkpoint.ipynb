{
 "cells": [
  {
   "cell_type": "markdown",
   "id": "b9533796",
   "metadata": {},
   "source": [
    "# Annamaria Simonitto - Project work on data mining m"
   ]
  },
  {
   "cell_type": "code",
   "execution_count": 121,
   "id": "97e68d0b",
   "metadata": {
    "id": "97e68d0b"
   },
   "outputs": [],
   "source": [
    "# I imported the dataset from Kaggle website"
   ]
  },
  {
   "cell_type": "code",
   "execution_count": 122,
   "id": "72f3a424",
   "metadata": {
    "id": "72f3a424"
   },
   "outputs": [],
   "source": [
    "#import\n",
    "import pandas as pd\n",
    "import matplotlib.pyplot as plt\n",
    "import seaborn as sns\n",
    "import numpy as np\n",
    "\n",
    "from matplotlib import pyplot\n",
    "from sklearn.tree import plot_tree\n",
    "from matplotlib.pyplot import figure\n",
    "from sklearn.metrics import accuracy_score\n",
    "from sklearn.preprocessing import OneHotEncoder, OrdinalEncoder\n",
    "from sklearn.compose import ColumnTransformer\n",
    "#from sklearn.metrics import confusion_matrix\n",
    "from sklearn.preprocessing import MinMaxScaler\n",
    "from plot_silhouette import plot_silhouette\n",
    "from plot_clusters import plot_clusters\n",
    "from IPython.display import Image\n",
    "from sklearn.cluster import KMeans\n",
    "from sklearn.cluster import DBSCAN\n",
    "from sklearn.metrics import silhouette_score, silhouette_samples\n",
    "from sklearn.preprocessing import MinMaxScaler\n",
    "from sklearn.preprocessing import PowerTransformer\n",
    "\n",
    "#Directives\n",
    "np.random.seed(2)\n",
    "plt.style.use('ggplot')\n",
    "%matplotlib inline\n",
    "#variables\n",
    "path = 'AgeDataset-V1.csv'\n",
    "sep = ','\n",
    "random_state = 40\n",
    "\n",
    "pd.options.mode.chained_assignment = None"
   ]
  },
  {
   "cell_type": "code",
   "execution_count": 123,
   "id": "9c8bccc8",
   "metadata": {
    "id": "9c8bccc8"
   },
   "outputs": [],
   "source": [
    "#Read the file\n",
    "#Use `df` as data frame name\n",
    "df = pd.read_csv(path , delimiter = sep)"
   ]
  },
  {
   "cell_type": "markdown",
   "id": "bf8eafe5",
   "metadata": {},
   "source": [
    "### I use the 'sample' method to reduce the dataset and I take only 5% of it"
   ]
  },
  {
   "cell_type": "code",
   "execution_count": 124,
   "id": "QXxKH78apdeY",
   "metadata": {
    "colab": {
     "base_uri": "https://localhost:8080/",
     "height": 607
    },
    "id": "QXxKH78apdeY",
    "outputId": "703300db-74c7-4aa1-df85-40514e8b61db"
   },
   "outputs": [
    {
     "data": {
      "text/html": [
       "<div>\n",
       "<style scoped>\n",
       "    .dataframe tbody tr th:only-of-type {\n",
       "        vertical-align: middle;\n",
       "    }\n",
       "\n",
       "    .dataframe tbody tr th {\n",
       "        vertical-align: top;\n",
       "    }\n",
       "\n",
       "    .dataframe thead th {\n",
       "        text-align: right;\n",
       "    }\n",
       "</style>\n",
       "<table border=\"1\" class=\"dataframe\">\n",
       "  <thead>\n",
       "    <tr style=\"text-align: right;\">\n",
       "      <th></th>\n",
       "      <th>Id</th>\n",
       "      <th>Name</th>\n",
       "      <th>Short description</th>\n",
       "      <th>Gender</th>\n",
       "      <th>Country</th>\n",
       "      <th>Occupation</th>\n",
       "      <th>Birth year</th>\n",
       "      <th>Death year</th>\n",
       "      <th>Manner of death</th>\n",
       "      <th>Age of death</th>\n",
       "    </tr>\n",
       "  </thead>\n",
       "  <tbody>\n",
       "    <tr>\n",
       "      <th>168756</th>\n",
       "      <td>Q1452719</td>\n",
       "      <td>Frederick Deacon</td>\n",
       "      <td>chess master</td>\n",
       "      <td>Male</td>\n",
       "      <td>United Kingdom of Great Britain and Ireland</td>\n",
       "      <td>Athlete</td>\n",
       "      <td>1829</td>\n",
       "      <td>1875.0</td>\n",
       "      <td>NaN</td>\n",
       "      <td>46.0</td>\n",
       "    </tr>\n",
       "    <tr>\n",
       "      <th>195186</th>\n",
       "      <td>Q1638671</td>\n",
       "      <td>Otto Waffenschmied</td>\n",
       "      <td>Austrian illustrator, comics artist and editor</td>\n",
       "      <td>Male</td>\n",
       "      <td>Austria</td>\n",
       "      <td>Artist</td>\n",
       "      <td>1901</td>\n",
       "      <td>1971.0</td>\n",
       "      <td>NaN</td>\n",
       "      <td>70.0</td>\n",
       "    </tr>\n",
       "    <tr>\n",
       "      <th>1184686</th>\n",
       "      <td>Q62604028</td>\n",
       "      <td>Arnold Ebrok</td>\n",
       "      <td>Estonian rowing coach</td>\n",
       "      <td>Male</td>\n",
       "      <td>Estonia</td>\n",
       "      <td>Athlete</td>\n",
       "      <td>1921</td>\n",
       "      <td>2011.0</td>\n",
       "      <td>NaN</td>\n",
       "      <td>90.0</td>\n",
       "    </tr>\n",
       "    <tr>\n",
       "      <th>724043</th>\n",
       "      <td>Q12142255</td>\n",
       "      <td>Пономаренко Григорій Якович</td>\n",
       "      <td>historicus</td>\n",
       "      <td>NaN</td>\n",
       "      <td>NaN</td>\n",
       "      <td>Researcher</td>\n",
       "      <td>1922</td>\n",
       "      <td>2009.0</td>\n",
       "      <td>NaN</td>\n",
       "      <td>87.0</td>\n",
       "    </tr>\n",
       "    <tr>\n",
       "      <th>1063139</th>\n",
       "      <td>Q37423098</td>\n",
       "      <td>Maria Petronella van der Klugt-Witteman</td>\n",
       "      <td>Dutch politician and mayor</td>\n",
       "      <td>Female</td>\n",
       "      <td>Kingdom of the Netherlands</td>\n",
       "      <td>Politician</td>\n",
       "      <td>1926</td>\n",
       "      <td>1997.0</td>\n",
       "      <td>NaN</td>\n",
       "      <td>71.0</td>\n",
       "    </tr>\n",
       "    <tr>\n",
       "      <th>...</th>\n",
       "      <td>...</td>\n",
       "      <td>...</td>\n",
       "      <td>...</td>\n",
       "      <td>...</td>\n",
       "      <td>...</td>\n",
       "      <td>...</td>\n",
       "      <td>...</td>\n",
       "      <td>...</td>\n",
       "      <td>...</td>\n",
       "      <td>...</td>\n",
       "    </tr>\n",
       "    <tr>\n",
       "      <th>362167</th>\n",
       "      <td>Q3849032</td>\n",
       "      <td>Mario Ridolfi</td>\n",
       "      <td>Italian architect</td>\n",
       "      <td>Male</td>\n",
       "      <td>Italy; Kingdom of Italy</td>\n",
       "      <td>Architect</td>\n",
       "      <td>1904</td>\n",
       "      <td>1984.0</td>\n",
       "      <td>NaN</td>\n",
       "      <td>80.0</td>\n",
       "    </tr>\n",
       "    <tr>\n",
       "      <th>572990</th>\n",
       "      <td>Q6710948</td>\n",
       "      <td>Léandre Lacroix</td>\n",
       "      <td>Luxembourgian politician (1859-1935)</td>\n",
       "      <td>Male</td>\n",
       "      <td>Luxembourg</td>\n",
       "      <td>Politician</td>\n",
       "      <td>1859</td>\n",
       "      <td>1935.0</td>\n",
       "      <td>NaN</td>\n",
       "      <td>76.0</td>\n",
       "    </tr>\n",
       "    <tr>\n",
       "      <th>400268</th>\n",
       "      <td>Q4707747</td>\n",
       "      <td>Alan Shapley</td>\n",
       "      <td>United States Marine Corps general</td>\n",
       "      <td>Male</td>\n",
       "      <td>United States of America</td>\n",
       "      <td>Military personnel</td>\n",
       "      <td>1903</td>\n",
       "      <td>1973.0</td>\n",
       "      <td>NaN</td>\n",
       "      <td>70.0</td>\n",
       "    </tr>\n",
       "    <tr>\n",
       "      <th>571567</th>\n",
       "      <td>Q6687665</td>\n",
       "      <td>Louis Liebe</td>\n",
       "      <td>German composer</td>\n",
       "      <td>Male</td>\n",
       "      <td>Germany</td>\n",
       "      <td>Artist</td>\n",
       "      <td>1819</td>\n",
       "      <td>1900.0</td>\n",
       "      <td>NaN</td>\n",
       "      <td>81.0</td>\n",
       "    </tr>\n",
       "    <tr>\n",
       "      <th>950554</th>\n",
       "      <td>Q21088556</td>\n",
       "      <td>Luis Astruc</td>\n",
       "      <td>schrijver</td>\n",
       "      <td>Male</td>\n",
       "      <td>NaN</td>\n",
       "      <td>Artist</td>\n",
       "      <td>1857</td>\n",
       "      <td>1904.0</td>\n",
       "      <td>NaN</td>\n",
       "      <td>47.0</td>\n",
       "    </tr>\n",
       "  </tbody>\n",
       "</table>\n",
       "<p>61150 rows × 10 columns</p>\n",
       "</div>"
      ],
      "text/plain": [
       "                Id                                     Name  \\\n",
       "168756    Q1452719                         Frederick Deacon   \n",
       "195186    Q1638671                       Otto Waffenschmied   \n",
       "1184686  Q62604028                             Arnold Ebrok   \n",
       "724043   Q12142255              Пономаренко Григорій Якович   \n",
       "1063139  Q37423098  Maria Petronella van der Klugt-Witteman   \n",
       "...            ...                                      ...   \n",
       "362167    Q3849032                            Mario Ridolfi   \n",
       "572990    Q6710948                          Léandre Lacroix   \n",
       "400268    Q4707747                             Alan Shapley   \n",
       "571567    Q6687665                              Louis Liebe   \n",
       "950554   Q21088556                              Luis Astruc   \n",
       "\n",
       "                                      Short description  Gender  \\\n",
       "168756                                     chess master    Male   \n",
       "195186   Austrian illustrator, comics artist and editor    Male   \n",
       "1184686                           Estonian rowing coach    Male   \n",
       "724043                                       historicus     NaN   \n",
       "1063139                      Dutch politician and mayor  Female   \n",
       "...                                                 ...     ...   \n",
       "362167                                Italian architect    Male   \n",
       "572990             Luxembourgian politician (1859-1935)    Male   \n",
       "400268               United States Marine Corps general    Male   \n",
       "571567                                  German composer    Male   \n",
       "950554                                        schrijver    Male   \n",
       "\n",
       "                                             Country          Occupation  \\\n",
       "168756   United Kingdom of Great Britain and Ireland             Athlete   \n",
       "195186                                       Austria              Artist   \n",
       "1184686                                      Estonia             Athlete   \n",
       "724043                                           NaN          Researcher   \n",
       "1063139                   Kingdom of the Netherlands          Politician   \n",
       "...                                              ...                 ...   \n",
       "362167                       Italy; Kingdom of Italy           Architect   \n",
       "572990                                    Luxembourg          Politician   \n",
       "400268                      United States of America  Military personnel   \n",
       "571567                                       Germany              Artist   \n",
       "950554                                           NaN              Artist   \n",
       "\n",
       "         Birth year  Death year Manner of death  Age of death  \n",
       "168756         1829      1875.0             NaN          46.0  \n",
       "195186         1901      1971.0             NaN          70.0  \n",
       "1184686        1921      2011.0             NaN          90.0  \n",
       "724043         1922      2009.0             NaN          87.0  \n",
       "1063139        1926      1997.0             NaN          71.0  \n",
       "...             ...         ...             ...           ...  \n",
       "362167         1904      1984.0             NaN          80.0  \n",
       "572990         1859      1935.0             NaN          76.0  \n",
       "400268         1903      1973.0             NaN          70.0  \n",
       "571567         1819      1900.0             NaN          81.0  \n",
       "950554         1857      1904.0             NaN          47.0  \n",
       "\n",
       "[61150 rows x 10 columns]"
      ]
     },
     "execution_count": 124,
     "metadata": {},
     "output_type": "execute_result"
    }
   ],
   "source": [
    "df1 = df.sample(frac = 0.05, random_state = random_state)\n",
    "df1"
   ]
  },
  {
   "cell_type": "code",
   "execution_count": 125,
   "id": "elLpAfYLpsMK",
   "metadata": {
    "colab": {
     "base_uri": "https://localhost:8080/"
    },
    "id": "elLpAfYLpsMK",
    "outputId": "9f136883-48d5-480f-e422-59c650f935c1"
   },
   "outputs": [
    {
     "name": "stdout",
     "output_type": "stream",
     "text": [
      "the dataframe size are: (61150, 10)\n"
     ]
    }
   ],
   "source": [
    "# Show the shape of the data\n",
    "print(\"the dataframe size are: \"+str(df1.shape))"
   ]
  },
  {
   "cell_type": "code",
   "execution_count": 126,
   "id": "e2a637a7",
   "metadata": {
    "colab": {
     "base_uri": "https://localhost:8080/"
    },
    "id": "e2a637a7",
    "outputId": "63a228e8-c069-430c-bff6-b10a3802bf15"
   },
   "outputs": [
    {
     "data": {
      "text/plain": [
       "Index(['Id', 'Name', 'Short description', 'Gender', 'Country', 'Occupation',\n",
       "       'Birth year', 'Death year', 'Manner of death', 'Age of death'],\n",
       "      dtype='object')"
      ]
     },
     "execution_count": 126,
     "metadata": {},
     "output_type": "execute_result"
    }
   ],
   "source": [
    "#Show column names\n",
    "df1.columns"
   ]
  },
  {
   "cell_type": "code",
   "execution_count": 127,
   "id": "e541a185",
   "metadata": {
    "colab": {
     "base_uri": "https://localhost:8080/",
     "height": 337
    },
    "id": "e541a185",
    "outputId": "5e0244b7-815a-4588-da1c-58a5c6638dfe"
   },
   "outputs": [
    {
     "data": {
      "text/html": [
       "<div>\n",
       "<style scoped>\n",
       "    .dataframe tbody tr th:only-of-type {\n",
       "        vertical-align: middle;\n",
       "    }\n",
       "\n",
       "    .dataframe tbody tr th {\n",
       "        vertical-align: top;\n",
       "    }\n",
       "\n",
       "    .dataframe thead th {\n",
       "        text-align: right;\n",
       "    }\n",
       "</style>\n",
       "<table border=\"1\" class=\"dataframe\">\n",
       "  <thead>\n",
       "    <tr style=\"text-align: right;\">\n",
       "      <th></th>\n",
       "      <th>Id</th>\n",
       "      <th>Name</th>\n",
       "      <th>Short description</th>\n",
       "      <th>Gender</th>\n",
       "      <th>Country</th>\n",
       "      <th>Occupation</th>\n",
       "      <th>Birth year</th>\n",
       "      <th>Death year</th>\n",
       "      <th>Manner of death</th>\n",
       "      <th>Age of death</th>\n",
       "    </tr>\n",
       "  </thead>\n",
       "  <tbody>\n",
       "    <tr>\n",
       "      <th>168756</th>\n",
       "      <td>Q1452719</td>\n",
       "      <td>Frederick Deacon</td>\n",
       "      <td>chess master</td>\n",
       "      <td>Male</td>\n",
       "      <td>United Kingdom of Great Britain and Ireland</td>\n",
       "      <td>Athlete</td>\n",
       "      <td>1829</td>\n",
       "      <td>1875.0</td>\n",
       "      <td>NaN</td>\n",
       "      <td>46.0</td>\n",
       "    </tr>\n",
       "    <tr>\n",
       "      <th>195186</th>\n",
       "      <td>Q1638671</td>\n",
       "      <td>Otto Waffenschmied</td>\n",
       "      <td>Austrian illustrator, comics artist and editor</td>\n",
       "      <td>Male</td>\n",
       "      <td>Austria</td>\n",
       "      <td>Artist</td>\n",
       "      <td>1901</td>\n",
       "      <td>1971.0</td>\n",
       "      <td>NaN</td>\n",
       "      <td>70.0</td>\n",
       "    </tr>\n",
       "    <tr>\n",
       "      <th>1184686</th>\n",
       "      <td>Q62604028</td>\n",
       "      <td>Arnold Ebrok</td>\n",
       "      <td>Estonian rowing coach</td>\n",
       "      <td>Male</td>\n",
       "      <td>Estonia</td>\n",
       "      <td>Athlete</td>\n",
       "      <td>1921</td>\n",
       "      <td>2011.0</td>\n",
       "      <td>NaN</td>\n",
       "      <td>90.0</td>\n",
       "    </tr>\n",
       "    <tr>\n",
       "      <th>724043</th>\n",
       "      <td>Q12142255</td>\n",
       "      <td>Пономаренко Григорій Якович</td>\n",
       "      <td>historicus</td>\n",
       "      <td>NaN</td>\n",
       "      <td>NaN</td>\n",
       "      <td>Researcher</td>\n",
       "      <td>1922</td>\n",
       "      <td>2009.0</td>\n",
       "      <td>NaN</td>\n",
       "      <td>87.0</td>\n",
       "    </tr>\n",
       "    <tr>\n",
       "      <th>1063139</th>\n",
       "      <td>Q37423098</td>\n",
       "      <td>Maria Petronella van der Klugt-Witteman</td>\n",
       "      <td>Dutch politician and mayor</td>\n",
       "      <td>Female</td>\n",
       "      <td>Kingdom of the Netherlands</td>\n",
       "      <td>Politician</td>\n",
       "      <td>1926</td>\n",
       "      <td>1997.0</td>\n",
       "      <td>NaN</td>\n",
       "      <td>71.0</td>\n",
       "    </tr>\n",
       "  </tbody>\n",
       "</table>\n",
       "</div>"
      ],
      "text/plain": [
       "                Id                                     Name  \\\n",
       "168756    Q1452719                         Frederick Deacon   \n",
       "195186    Q1638671                       Otto Waffenschmied   \n",
       "1184686  Q62604028                             Arnold Ebrok   \n",
       "724043   Q12142255              Пономаренко Григорій Якович   \n",
       "1063139  Q37423098  Maria Petronella van der Klugt-Witteman   \n",
       "\n",
       "                                      Short description  Gender  \\\n",
       "168756                                     chess master    Male   \n",
       "195186   Austrian illustrator, comics artist and editor    Male   \n",
       "1184686                           Estonian rowing coach    Male   \n",
       "724043                                       historicus     NaN   \n",
       "1063139                      Dutch politician and mayor  Female   \n",
       "\n",
       "                                             Country  Occupation  Birth year  \\\n",
       "168756   United Kingdom of Great Britain and Ireland     Athlete        1829   \n",
       "195186                                       Austria      Artist        1901   \n",
       "1184686                                      Estonia     Athlete        1921   \n",
       "724043                                           NaN  Researcher        1922   \n",
       "1063139                   Kingdom of the Netherlands  Politician        1926   \n",
       "\n",
       "         Death year Manner of death  Age of death  \n",
       "168756       1875.0             NaN          46.0  \n",
       "195186       1971.0             NaN          70.0  \n",
       "1184686      2011.0             NaN          90.0  \n",
       "724043       2009.0             NaN          87.0  \n",
       "1063139      1997.0             NaN          71.0  "
      ]
     },
     "execution_count": 127,
     "metadata": {},
     "output_type": "execute_result"
    }
   ],
   "source": [
    "#Show portion of data\n",
    "df1.head()"
   ]
  },
  {
   "cell_type": "code",
   "execution_count": 128,
   "id": "e87ec0a4",
   "metadata": {
    "colab": {
     "base_uri": "https://localhost:8080/",
     "height": 300
    },
    "id": "e87ec0a4",
    "outputId": "318a25fc-3a76-41ee-dd28-c1a77ede44c0"
   },
   "outputs": [
    {
     "data": {
      "text/html": [
       "<div>\n",
       "<style scoped>\n",
       "    .dataframe tbody tr th:only-of-type {\n",
       "        vertical-align: middle;\n",
       "    }\n",
       "\n",
       "    .dataframe tbody tr th {\n",
       "        vertical-align: top;\n",
       "    }\n",
       "\n",
       "    .dataframe thead th {\n",
       "        text-align: right;\n",
       "    }\n",
       "</style>\n",
       "<table border=\"1\" class=\"dataframe\">\n",
       "  <thead>\n",
       "    <tr style=\"text-align: right;\">\n",
       "      <th></th>\n",
       "      <th>Birth year</th>\n",
       "      <th>Death year</th>\n",
       "      <th>Age of death</th>\n",
       "    </tr>\n",
       "  </thead>\n",
       "  <tbody>\n",
       "    <tr>\n",
       "      <th>count</th>\n",
       "      <td>61150.000000</td>\n",
       "      <td>61150.000000</td>\n",
       "      <td>61150.00000</td>\n",
       "    </tr>\n",
       "    <tr>\n",
       "      <th>mean</th>\n",
       "      <td>1845.017367</td>\n",
       "      <td>1914.191087</td>\n",
       "      <td>69.17372</td>\n",
       "    </tr>\n",
       "    <tr>\n",
       "      <th>std</th>\n",
       "      <td>151.166021</td>\n",
       "      <td>154.886213</td>\n",
       "      <td>16.71984</td>\n",
       "    </tr>\n",
       "    <tr>\n",
       "      <th>min</th>\n",
       "      <td>-1481.000000</td>\n",
       "      <td>-1425.000000</td>\n",
       "      <td>0.00000</td>\n",
       "    </tr>\n",
       "    <tr>\n",
       "      <th>25%</th>\n",
       "      <td>1829.000000</td>\n",
       "      <td>1895.000000</td>\n",
       "      <td>60.00000</td>\n",
       "    </tr>\n",
       "    <tr>\n",
       "      <th>50%</th>\n",
       "      <td>1887.000000</td>\n",
       "      <td>1955.000000</td>\n",
       "      <td>72.00000</td>\n",
       "    </tr>\n",
       "    <tr>\n",
       "      <th>75%</th>\n",
       "      <td>1918.000000</td>\n",
       "      <td>1994.000000</td>\n",
       "      <td>81.00000</td>\n",
       "    </tr>\n",
       "    <tr>\n",
       "      <th>max</th>\n",
       "      <td>2005.000000</td>\n",
       "      <td>2021.000000</td>\n",
       "      <td>128.00000</td>\n",
       "    </tr>\n",
       "  </tbody>\n",
       "</table>\n",
       "</div>"
      ],
      "text/plain": [
       "         Birth year    Death year  Age of death\n",
       "count  61150.000000  61150.000000   61150.00000\n",
       "mean    1845.017367   1914.191087      69.17372\n",
       "std      151.166021    154.886213      16.71984\n",
       "min    -1481.000000  -1425.000000       0.00000\n",
       "25%     1829.000000   1895.000000      60.00000\n",
       "50%     1887.000000   1955.000000      72.00000\n",
       "75%     1918.000000   1994.000000      81.00000\n",
       "max     2005.000000   2021.000000     128.00000"
      ]
     },
     "execution_count": 128,
     "metadata": {},
     "output_type": "execute_result"
    }
   ],
   "source": [
    "#Show a description of the dataframe\n",
    "df1.describe()"
   ]
  },
  {
   "cell_type": "code",
   "execution_count": 129,
   "id": "F24Z1hYhrePq",
   "metadata": {
    "id": "F24Z1hYhrePq"
   },
   "outputs": [],
   "source": [
    "#Remove the rows that contains NULL values.\n",
    "df1 = df1.dropna()"
   ]
  },
  {
   "cell_type": "markdown",
   "id": "bde04811",
   "metadata": {},
   "source": [
    "## Pre-Processing"
   ]
  },
  {
   "cell_type": "code",
   "execution_count": 130,
   "id": "fb2ade43",
   "metadata": {},
   "outputs": [
    {
     "data": {
      "text/plain": [
       "array(['Female', 'Male', 'Transgender Female', 'Eunuch; Male'],\n",
       "      dtype=object)"
      ]
     },
     "execution_count": 130,
     "metadata": {},
     "output_type": "execute_result"
    }
   ],
   "source": [
    "df1[\"Gender\"].unique()"
   ]
  },
  {
   "cell_type": "code",
   "execution_count": 131,
   "id": "fc38d855",
   "metadata": {},
   "outputs": [],
   "source": [
    "df1['Gender'] = df1['Gender'].replace([ 'Transgender Female', 'Eunuch; Male'],'non-binary')"
   ]
  },
  {
   "cell_type": "code",
   "execution_count": 132,
   "id": "8ea6c1fc",
   "metadata": {},
   "outputs": [
    {
     "data": {
      "text/plain": [
       "array(['Female', 'Male', 'non-binary'], dtype=object)"
      ]
     },
     "execution_count": 132,
     "metadata": {},
     "output_type": "execute_result"
    }
   ],
   "source": [
    "df1[\"Gender\"].unique()"
   ]
  },
  {
   "cell_type": "code",
   "execution_count": 133,
   "id": "90FueiQ73yWD",
   "metadata": {
    "colab": {
     "base_uri": "https://localhost:8080/"
    },
    "id": "90FueiQ73yWD",
    "outputId": "2a2535e9-3f91-4032-d468-919b39f0e5f1"
   },
   "outputs": [
    {
     "data": {
      "text/plain": [
       "array(['United States of America', 'Russian Empire', 'France; Algeria',\n",
       "       'United States of America; Italy; Kingdom of Italy',\n",
       "       'Saudi Arabia', 'Morocco', 'United Kingdom',\n",
       "       'Azerbaijan; Soviet Union', 'Canada', 'New Zealand',\n",
       "       'Ottoman Empire', 'France', 'Spain', 'Switzerland', 'Bulgaria',\n",
       "       'Argentina', 'Soviet Union', 'Kingdom of the Netherlands',\n",
       "       'Germany', 'Belarus', 'Poland', 'Costa Rica', 'Ireland',\n",
       "       'Austria-Hungary', 'Italy; Eritrea; Kingdom of Italy', 'Japan',\n",
       "       'Canada; United States of America', 'Austria', 'Australia',\n",
       "       'Soviet Union; Russian Empire', 'Norway', 'Sweden', 'Turkey',\n",
       "       'Denmark', 'Hungary', 'Mexico', 'Venezuela', 'Somalia',\n",
       "       'United Kingdom of Great Britain and Ireland', 'Senegal',\n",
       "       'South Africa', 'Brazil', 'Kingdom of England',\n",
       "       'Italy; Kingdom of Italy', 'Kingdom of Italy', 'Indonesia',\n",
       "       'United Kingdom; United Kingdom of Great Britain and Ireland',\n",
       "       'Cuba', 'Kingdom of Great Britain', 'Chile', 'India', 'Greece',\n",
       "       'France; Israel', 'Republic of Genova', 'Russia; Soviet Union',\n",
       "       'Mexicans', 'Iran', 'Malaysia', 'Albania; Ottoman Empire',\n",
       "       'Tang Empire', 'Angola', 'Russia', 'Uruguay', 'Philippines',\n",
       "       'Grand Duchy of Lithuania; Polish–Lithuanian Commonwealth',\n",
       "       'United States of America; France',\n",
       "       'United States of America; Poland',\n",
       "       'Socialist Federal Republic of Yugoslavia', 'Iraq; statelessness',\n",
       "       'Bolivia; Viceroyalty of the Río de la Plata',\n",
       "       'India; British Raj', 'Spain; Equatorial Guinea', 'German Empire',\n",
       "       'Tanzania', 'Serbia', 'Belgium',\n",
       "       'United States of America; United Kingdom', 'Iraq',\n",
       "       'Slovenia; Socialist Federal Republic of Yugoslavia; Kingdom of Yugoslavia',\n",
       "       'Dominican Republic', 'Canada; Philippines', 'Crown of Castile',\n",
       "       'Spain; Italy; Kingdom of Italy', 'Ukraine; Soviet Union',\n",
       "       'Montenegro',\n",
       "       'Soviet Union; Russian Empire; Russian Soviet Federative Socialist Republic',\n",
       "       'Mexico; Cuba', 'Slovakia', 'Romania', 'Poland; New Zealand',\n",
       "       'Czech Republic', 'German Democratic Republic', 'El Salvador',\n",
       "       'Qing dynasty; Ming dynasty', 'Czechoslovakia', 'Tonkin',\n",
       "       'France; Gabon', 'Albania', 'Luxembourg',\n",
       "       'Qing dynasty; Republic of China (1912–1949)',\n",
       "       'Western Jin dynasty', 'Malawi', 'Umayyad Caliphate', 'England',\n",
       "       'Colombia',\n",
       "       'Kingdom of Great Britain; United Kingdom of Great Britain and Ireland',\n",
       "       'United States of America; Puerto Rico',\n",
       "       'Poland; Mandatory Palestine', 'Ecuador',\n",
       "       'San Nicolás de los Garza',\n",
       "       'Palestine; Russian Empire; Mandatory Palestine', 'Wales',\n",
       "       \"People's Republic of China\",\n",
       "       'Soviet Union; Lokot Autonomy; Russian Soviet Federative Socialist Republic',\n",
       "       'Yemen', 'South Korea',\n",
       "       \"People's Republic of China; Republic of China (1912–1949)\",\n",
       "       'Netherlands', 'Guatemala', 'Israel', 'Ukraine', 'Americans',\n",
       "       'Serbia; Serbia and Montenegro; Socialist Federal Republic of Yugoslavia; Federal Republic of Yugoslavia',\n",
       "       'Holy Roman Empire', 'Hungary; Austria',\n",
       "       'Soviet Union; Russian Empire; Far Eastern Republic; Russian Soviet Federative Socialist Republic',\n",
       "       'Palestine', 'Germany; German Democratic Republic',\n",
       "       'Suriname; Kingdom of the Netherlands', 'France; Iceland',\n",
       "       'United States of America; Austria; Germany', 'Finland', 'Tunisia',\n",
       "       'England; United Kingdom of Great Britain and Ireland',\n",
       "       'Ireland; United States of America', 'British Raj',\n",
       "       'Sweden; Somalia',\n",
       "       'Russia; Soviet Union; Russian Empire; Russian Soviet Federative Socialist Republic',\n",
       "       'Nigeria', 'Taiwan', 'Spain; Cuba',\n",
       "       \"People's Republic of China; Australia\", 'Lebanon; Syria',\n",
       "       'Ethiopia', \"People's Republic of Hungary; Kingdom of Hungary\",\n",
       "       \"People's Republic of China; Qing dynasty; Republic of China (1912–1949)\",\n",
       "       'Pakistan', 'Rwanda', 'Italy', 'North Macedonia',\n",
       "       'Ecuador; Colombia', 'Haiti', 'United Kingdom; Australia',\n",
       "       'Croatia; Yugoslavia', 'Byzantine Empire',\n",
       "       'Denmark; Russian Empire', 'ancient Rome', 'Pakistan; British Raj',\n",
       "       'Belgium; France', 'Namibia',\n",
       "       'United Kingdom; Irish Free State; United Kingdom of Great Britain and Ireland',\n",
       "       'Belgium; South Africa', 'Japan; Ashikaga shogunate', 'Iceland',\n",
       "       'Austria; German Reich', 'Eritrea',\n",
       "       'Switzerland; Kingdom of the Netherlands; Alemania',\n",
       "       'Kingdom of France', 'Grand Duchy of Tuscany', 'Saint-Domingue',\n",
       "       'New Zealand; Jordan', 'Spain; El Salvador',\n",
       "       'United States of America; Switzerland', 'Ghana',\n",
       "       'Wales; United Kingdom of Great Britain and Ireland',\n",
       "       'Kingdom of Jerusalem', 'Australia; New Zealand',\n",
       "       'Wales; United Kingdom', 'Kingdom of Romania', 'Syria',\n",
       "       'Grand Duchy of Hesse; Russian Empire',\n",
       "       'Austria; Nazi Germany; Austria-Hungary', 'Ptolemaic Kingdom',\n",
       "       'Socialist Federal Republic of Yugoslavia; Kingdom of Yugoslavia; Federal Republic of Yugoslavia',\n",
       "       'Poland; Russian Empire', 'Peru',\n",
       "       'United States of America; Kingdom of Italy',\n",
       "       'United States of America; Germany', 'Burundi',\n",
       "       'France; West Germany', 'Turkey; Germany', 'Pakistan; Bangladesh',\n",
       "       'Duchy of Milan', 'Russia; Germany', 'France; United Kingdom',\n",
       "       'United States of America; Austria; Austria-Hungary', 'Egypt',\n",
       "       'China', 'Lebanon', 'Nazi Germany; Weimar Republic; German Empire',\n",
       "       'Russian Empire; Second Polish Republic', 'Western Han Dynasty',\n",
       "       'Puerto Rico', 'Cuba; Argentina',\n",
       "       'Canada; United Kingdom; United Kingdom of Great Britain and Ireland',\n",
       "       'Wales; United Kingdom; United Kingdom of Great Britain and Ireland',\n",
       "       'Greece; Russian Empire', 'Austria; Slovakia',\n",
       "       'Switzerland; France', 'Wu', 'Germany; Nazi Germany; West Germany',\n",
       "       'Latvia', 'Nazi Germany; German Empire', 'British North America',\n",
       "       'Nazi Germany; German Empire; West Germany',\n",
       "       \"Ukraine; Soviet Union; Austria-Hungary; Ukrainian Soviet Socialist Republic; Ukrainian People's Republic\",\n",
       "       'Jordan', 'Ottoman Empire; Yugoslavia', 'Jamaica',\n",
       "       'United States of America; Colombia',\n",
       "       'Japan; United States of America',\n",
       "       'Australia; United Kingdom of Great Britain and Ireland',\n",
       "       'Papal States', 'Latvia; Soviet Union', 'Ancient Egypt',\n",
       "       'Qing dynasty; China', 'United States of America; Russian Empire',\n",
       "       'Austria-Hungary; Czechoslovakia', 'Southern Qi',\n",
       "       'Kingdom of Naples', 'Prussia',\n",
       "       'Qing dynasty; Taiping Heavenly Kingdom',\n",
       "       'Algeria; Kingdom of Iraq; Republic of Iraq (1958–68)',\n",
       "       'Kingdom of Ireland',\n",
       "       'Kingdom of Great Britain; Kingdom of Scotland', 'Kazakhstan',\n",
       "       'Canada; Poland', 'Kingdom of Georgia', 'Nepal',\n",
       "       'Duchy of Brittany', 'France; Germany',\n",
       "       'United States of America; Kingdom of Hungary',\n",
       "       'United States of America; Austria', 'Han dynasty',\n",
       "       'Ireland; United Kingdom of Great Britain and Ireland',\n",
       "       'United States of America; Austria-Hungary', 'Grenada',\n",
       "       \"People's Republic of Poland\",\n",
       "       'Russian Soviet Federative Socialist Republic; Russian Empire',\n",
       "       'Bulgaria; Ottoman Empire', 'Singapore',\n",
       "       'Hungary; United States of America',\n",
       "       'France; Romania; Austria-Hungary', 'Honduras',\n",
       "       'Republic of Venice', 'Second Polish Republic',\n",
       "       'United States of America; United Kingdom of Great Britain and Ireland',\n",
       "       'Singapore; Malaysia', 'Kition', 'Uganda', 'North Korea',\n",
       "       'Equatorial Guinea', 'France; Brazil',\n",
       "       'Germany; Nazi Germany; Weimar Republic', 'State of Palestine',\n",
       "       'Poland; Nazi Germany; Russian Empire',\n",
       "       'United States of America; Sweden',\n",
       "       'Soviet Union; Russian Empire; Democratic Republic of Georgia',\n",
       "       'Spain; France',\n",
       "       'Soviet Union; Russian Soviet Federative Socialist Republic',\n",
       "       'United Kingdom; India', 'Bolivia', 'Kingdom of Yugoslavia',\n",
       "       'Guyana'], dtype=object)"
      ]
     },
     "execution_count": 133,
     "metadata": {},
     "output_type": "execute_result"
    }
   ],
   "source": [
    "# For each column show the frequencies of each distinct value\n",
    "df1[\"Country\"].unique()"
   ]
  },
  {
   "cell_type": "markdown",
   "id": "bfdeb182",
   "metadata": {},
   "source": [
    "### To reduce the number of 'Country' column values, use the 'replace' method to group the various States in continents : Africa, Europe, North America, South America, Central America, Asia, Oceania."
   ]
  },
  {
   "cell_type": "code",
   "execution_count": 134,
   "id": "GMtMndg9-Vpj",
   "metadata": {
    "id": "GMtMndg9-Vpj"
   },
   "outputs": [],
   "source": [
    "df1['Country'] = df1['Country'].replace(['France; Algeria', 'Morocco', 'Angola', 'Italy; Eritrea; Kingdom of Italy',\n",
    "                                         'Somalia','Senegal', 'South Africa', 'Tunisia', 'Nigeria', 'Lebanon; Syria',\n",
    "                                         'Ethiopia','Namibia','Belgium; South Africa','Eritrea', 'Ghana', 'Syria',\n",
    "                                         'Burundi','Egypt', 'Ancient Egypt', 'Uganda', 'Equatorial Guinea', 'Ptolemaic Kingdom','Tanzania',\n",
    "                                         'Rwanda','Jamaica'], 'Africa')\n",
    "\n",
    "df1['Country'] = df1['Country'].replace(['Estonia', 'Austria', 'Belgium', 'Kingdom of the Netherlands', 'Russian Empire',\n",
    "                                         'United Kingdom of Great Britain and Ireland', 'Luxembourg', 'Germany',\n",
    "                                         'Kingdom of Italy' , 'Kingdom of France', 'Spain', 'France', 'Italy',\n",
    "                                         'German Empire', 'Kingdom of England', 'Republic of Florence','United Kingdom', 'Sweden',\n",
    "                                         'Norway', 'Holy Roman Empire', 'Kingdom of Portuga', 'Papal States', \n",
    "                                          'German Democratic Republic', 'Kingdom of Great Britain', 'Kingdom of Prussia',\n",
    "                                          'Austria-Hungary', 'Azerbaijan; Soviet Union', 'Ottoman Empire',\n",
    "                                          'Switzerland', 'Bulgaria', 'Soviet Union', 'Belarus', 'Poland',\n",
    "                                          'Ireland','Austria-Hungary', 'Italy; Eritrea; Kingdom of Italy',\n",
    "                                          'Soviet Union; Russian Empire', 'Turkey','Denmark', 'Hungary',\n",
    "                                         'Italy; Kingdom of Italy', 'Kingdom of Italy', \n",
    "                                          'United Kingdom; United Kingdom of Great Britain and Ireland', 'Republic of Genova', 'Russia; Soviet Union',\n",
    "                                         'Albania; Ottoman Empire','Grand Duchy of Lithuania; Polish–Lithuanian Commonwealth',\n",
    "                                          'United States of America; France', 'United States of America; Poland',\n",
    "                                          'Socialist Federal Republic of Yugoslavia', \n",
    "                                         'India; British Raj', 'Spain; Equatorial Guinea', \n",
    "                                         'Slovenia; Socialist Federal Republic of Yugoslavia; Kingdom of Yugoslavia',\n",
    "                                         'Crown of Castile','Spain; Italy; Kingdom of Italy', 'Ukraine; Soviet Union','Montenegro',\n",
    "                                          'Soviet Union; Russian Empire; Russian Soviet Federative Socialist Republic',\n",
    "                                          'Slovakia', 'Romania', 'Poland; New Zealand', 'Czech Republic', 'German Democratic Republic',\n",
    "                                          'Czechoslovakia', 'France; Gabon', 'Albania', 'Luxembourg', 'England',\n",
    "                                         'Poland; Mandatory Palestine', 'Palestine; Russian Empire; Mandatory Palestine', 'Wales',\n",
    "                                         'Soviet Union; Lokot Autonomy; Russian Soviet Federative Socialist Republic',\n",
    "                                         'Netherlands', 'Israel', 'Ukraine', 'Soviet Union; Russian Empire; Far Eastern Republic; Russian Soviet Federative Socialist Republic',\n",
    "                                          'Palestine', 'Germany; German Democratic Republic',\n",
    "                                         'Suriname; Kingdom of the Netherlands', 'France; Iceland', 'United States of America; Austria; Germany', 'Finland',\n",
    "                                          'England; United Kingdom of Great Britain and Ireland','Ireland; United States of America', 'British Raj',\n",
    "                                          'Sweden; Somalia','Russia; Soviet Union; Russian Empire; Russian Soviet Federative Socialist Republic',\n",
    "                                          'Spain; Cuba', \"People's Republic of Hungary; Kingdom of Hungary\", 'North Macedonia',\n",
    "                                         'United Kingdom; Australia', 'Croatia; Yugoslavia', 'Byzantine Empire','Denmark; Russian Empire', 'ancient Rome',\n",
    "                                         'Belgium; France','United Kingdom; Irish Free State; United Kingdom of Great Britain and Ireland',\n",
    "                                          'Belgium; South Africa', 'Iceland','Austria; German Reich', \n",
    "                                         'Switzerland; Kingdom of the Netherlands; Alemania', 'Grand Duchy of Tuscany',\n",
    "                                         'Spain; El Salvador', 'United States of America; Switzerland', 'Wales; United Kingdom of Great Britain and Ireland',\n",
    "                                         'Kingdom of Romania','Grand Duchy of Hesse; Russian Empire','Austria; Nazi Germany; Austria-Hungary',\n",
    "                                         'Socialist Federal Republic of Yugoslavia; Kingdom of Yugoslavia; Federal Republic of Yugoslavia',\n",
    "                                          'Poland; Russian Empire', 'United States of America; Kingdom of Italy', 'United States of America; Germany',\n",
    "                                         'United States of America; Italy; Kingdom of Italy','Greece', 'France; Israel','Russia', \n",
    "                                         'Serbia', 'United States of America; United Kingdom', 'Kingdom of Great Britain; United Kingdom of Great Britain and Ireland',\n",
    "                                         'Serbia; Serbia and Montenegro; Socialist Federal Republic of Yugoslavia; Federal Republic of Yugoslavia',\n",
    "                                          'Hungary; Austria','Hungary; Austria','Wales; United Kingdom', 'France; West Germany', 'Turkey; Germany', \n",
    "                                          'France; West Germany', 'Turkey; Germany', 'Duchy of Milan', 'Russia; Germany', 'France; United Kingdom',\n",
    "                                          'United States of America; Austria; Austria-Hungary', 'Nazi Germany; Weimar Republic; German Empire',\n",
    "                                          'Russian Empire; Second Polish Republic', 'Western Han Dynasty', 'Canada; United Kingdom; United Kingdom of Great Britain and Ireland',\n",
    "                                          'Wales; United Kingdom; United Kingdom of Great Britain and Ireland','Greece; Russian Empire', 'Austria; Slovakia',\n",
    "                                          'Switzerland; France','Nazi Germany; German Empire; West Germany',\"Ukraine; Soviet Union; Austria-Hungary; Ukrainian Soviet Socialist Republic; Ukrainian People's Republic\",\n",
    "                                          'Ottoman Empire; Yugoslavia','Australia; United Kingdom of Great Britain and Ireland','Latvia; Soviet Union', \n",
    "                                          'United States of America; Russian Empire','Austria-Hungary; Czechoslovakia', 'Kingdom of Naples', \n",
    "                                         'Kingdom of Great Britain; Kingdom of Scotland', 'Canada; Poland', 'Duchy of Brittany', 'France; Germany',\n",
    "                                          'United States of America; Kingdom of Hungary','United States of America; Austria', 'Ireland; United Kingdom of Great Britain and Ireland',\n",
    "                                         'United States of America; Austria-Hungary', 'Grenada',\"People's Republic of Poland\",'Russian Soviet Federative Socialist Republic; Russian Empire', \n",
    "                                         'Hungary; United States of America','France; Romania; Austria-Hungary','Second Polish Republic',\n",
    "                                         'United States of America; Sweden','Soviet Union; Russian Empire; Democratic Republic of Georgia',\n",
    "                                          'Spain; France','Soviet Union; Russian Soviet Federative Socialist Republic','United Kingdom; India',\n",
    "                                         'Germany; Nazi Germany; West Germany', 'Latvia','Nazi Germany; German Empire','Prussia','Kingdom of Ireland', \n",
    "                                         'Bulgaria; Ottoman Empire','Republic of Venice','Kingdom of Jerusalem',\n",
    "                                         'United States of America; United Kingdom of Great Britain and Ireland', \n",
    "                                         'France; Brazil', 'Germany; Nazi Germany; Weimar Republic', 'State of Palestine',\n",
    "                                          'Poland; Nazi Germany; Russian Empire','Kingdom of Yugoslavia'], 'Europe')\n",
    "\n",
    "df1['Country'] = df1['Country'].replace(['United States of America','Canada',  'Mexico','Mexicans', 'Canada; Philippines','San Nicolás de los Garza',\n",
    "                                          'Americans',  'Haiti','British North America', 'United States of America; Colombia',\n",
    "                                         'Japan; United States of America',  'Canada; United States of America'],'North America')\n",
    "\n",
    "df1['Country'] = df1['Country'].replace(['Argentina','Venezuela', 'Brazil', 'Chile','Uruguay', 'Bolivia; Viceroyalty of the Río de la Plata',\n",
    "                                         'Colombia','Ecuador','Ecuador; Colombia','Peru','Cuba; Argentina','Bolivia','Guyana'],'South America')\n",
    "\n",
    "df1['Country'] = df1['Country'].replace(['Costa Rica','Cuba', 'Dominican Republic','El Salvador','United States of America; Puerto Rico',\n",
    "                                         'Mexico; Cuba','Guatemala','Saint-Domingue', 'Puerto Rico','Honduras'],'Central America')\n",
    "\n",
    "df1['Country'] = df1['Country'].replace(['Saudi Arabia','Japan', 'Indonesia', 'India', 'Iran', 'Malaysia', 'Tang Empire', 'Philippines', 'Iraq; statelessness', 'Iraq',\n",
    "                                         'Qing dynasty; Ming dynasty', 'Tonkin', 'Qing dynasty; Republic of China (1912–1949)',\n",
    "                                         'Western Jin dynasty', 'Malawi', 'Umayyad Caliphate', \"People's Republic of China\", 'Yemen', 'South Korea',\n",
    "                                         \"People's Republic of China; Republic of China (1912–1949)\", 'Taiwan', \"People's Republic of China; Australia\",\n",
    "                                         \"People's Republic of China; Qing dynasty; Republic of China (1912–1949)\", 'Pakistan', 'Pakistan; British Raj', 'Japan; Ashikaga shogunate',\n",
    "                                         'Pakistan; Bangladesh', 'China', 'Lebanon', 'Wu', 'Jordan',\n",
    "                                         'Algeria; Kingdom of Iraq; Republic of Iraq (1958–68)', 'Kazakhstan', 'Kingdom of Georgia', 'Nepal', 'Han dynasty',\n",
    "                                         'Singapore', 'Singapore; Malaysia', 'Kition', 'North Korea', 'Qing dynasty; China', 'Southern Qi',\n",
    "                                         'Qing dynasty; Taiping Heavenly Kingdom'],'Asia')\n",
    "df1['Country'] = df1['Country'].replace(['New Zealand', 'Australia','New Zealand; Jordan', 'Australia; New Zealand'],'Oceania')"
   ]
  },
  {
   "cell_type": "code",
   "execution_count": 135,
   "id": "feRHtQuB_D6L",
   "metadata": {
    "colab": {
     "base_uri": "https://localhost:8080/"
    },
    "id": "feRHtQuB_D6L",
    "outputId": "47323b45-9e27-42c8-df65-4af190242912"
   },
   "outputs": [
    {
     "data": {
      "text/plain": [
       "array(['North America', 'Europe', 'Africa', 'Asia', 'Oceania',\n",
       "       'South America', 'Central America'], dtype=object)"
      ]
     },
     "execution_count": 135,
     "metadata": {},
     "output_type": "execute_result"
    }
   ],
   "source": [
    "# For each column show the frequencies of each distinct value after grouping\n",
    "df1[\"Country\"].unique()"
   ]
  },
  {
   "cell_type": "code",
   "execution_count": 136,
   "id": "XB3qTuacx_7M",
   "metadata": {
    "colab": {
     "base_uri": "https://localhost:8080/"
    },
    "id": "XB3qTuacx_7M",
    "outputId": "01fb8e01-73ba-47ef-89d9-7b7fb54af457"
   },
   "outputs": [
    {
     "data": {
      "text/plain": [
       "array(['Artist', 'Politician', 'Military personnel', 'Athlete',\n",
       "       'Researcher', 'Aristocrat', 'Bullfighter', 'Revolutionary',\n",
       "       'Animator; film producer', 'Author; public figure; pedagogue',\n",
       "       'Journalist', 'Psychologist; psychotherapist', 'Serial killer',\n",
       "       'Racing automobile driver', 'Baker',\n",
       "       'Playboy playmate; beauty pageant contestant',\n",
       "       'Mountain guide; mountaineer', 'Religious figure', 'Pianist',\n",
       "       'Formula one driver', 'Criminal; street vendor',\n",
       "       'Racing automobile driver; formula one driver', 'Talent agent',\n",
       "       'Entrepreneur', 'Astronomer', 'Physician', 'Lawyer', 'Governor',\n",
       "       'Teacher', 'Theatre manager; theater director', 'Engineer',\n",
       "       'Sailor', 'Maid', 'Televangelist', 'Businessperson',\n",
       "       'Midwife; serial killer', 'Kayaker', 'Suffragette; suffragist',\n",
       "       'General practitioner', 'Ballet dancer; choreographer',\n",
       "       'Banker; statistician', 'Secretary', 'Fashion designer', 'Samurai',\n",
       "       'Television presenter', 'Manager; model; professional wrestler',\n",
       "       'Film producer', 'Fashion designer; designer',\n",
       "       'Cook; restaurateur', 'Judge', 'Cinematographer', 'Ruler',\n",
       "       'Nun; social worker', 'Fighter pilot', 'Functionary',\n",
       "       'Nun; christians jehovah’s witnesses', 'Patent inventor', 'Airman',\n",
       "       'Comedian', 'Taxi driver', 'Biologist',\n",
       "       'Salesperson; television presenter; television personality',\n",
       "       'Architect', 'Soprano', 'Domestic worker', 'Trade unionist',\n",
       "       'Philosopher', 'Amateur wrestler',\n",
       "       'Guitar maker; musical instrument maker', 'Activist',\n",
       "       'Banker; rancher', 'Conductor; choir director',\n",
       "       'Radio personality', 'Jurist', 'Presbyter', 'Caregiver',\n",
       "       'Librarian', 'Serial killer; spree killer; criminal', 'Homekeeper',\n",
       "       'Psychologist', 'Model; beauty pageant contestant',\n",
       "       'Pedagogue; psychoanalyst', 'Professional wrestler',\n",
       "       'Police officer', 'Novelist', 'Drug trafficker', 'Statesperson',\n",
       "       'Socialite', 'Conductor', 'Molecular biologist', 'Model',\n",
       "       'Executioner', 'Criminal', 'Merchant', 'Warrior', 'Violinist',\n",
       "       'Serial killer; truck driver', 'Political activist',\n",
       "       'Television director', 'Shah', 'Explorer', 'Weightlifter',\n",
       "       'Domestic worker; prostitute',\n",
       "       'Biologist; statistician; geneticist', 'Spy',\n",
       "       'Record producer; guitarist; mandolinist', 'Rabbi', 'Announcer',\n",
       "       'Felony; serial killer', 'Theatrical producer; theater director',\n",
       "       'Farmer; socialite', 'Presenter', 'Banker', 'Farmer', 'Drummer',\n",
       "       'Rally driver', 'Serial killer; criminal', 'Manual worker',\n",
       "       'Alpine skier', 'Civil servant; banker; financier',\n",
       "       'Ballet dancer; choreographer; fashion designer; dancer', 'Nurse',\n",
       "       'Aikidoka; judoka; karateka', 'Nutritionist',\n",
       "       'Beauty pageant contestant', 'Drug trafficker; prostitute',\n",
       "       'Disc jockey', 'Letterer; penciller', 'Weightlifter; powerlifter',\n",
       "       'Art dealer', 'Joiner', 'Concentration camp guard', 'Daimyo',\n",
       "       'Television producer; film producer', 'Flying ace', 'Dealer',\n",
       "       'Motorcycle racer', 'Student', 'Art thief', 'Choreographer',\n",
       "       'Business executive', 'Nurse; spy', 'Publisher', 'Seiyū',\n",
       "       'Talent manager; talent agent; racing automobile driver',\n",
       "       'Dermatologist', 'Sex worker; lgbt rights activist', 'Official',\n",
       "       'Dancer', 'Philanthropist', 'Snowboarder', 'Documentary filmmaker',\n",
       "       'Neuropsychologist', 'Astrologer; magician', 'Bobsledder',\n",
       "       'Long-distance runner; marathon runner', 'Civil servant',\n",
       "       'Biographer', 'Editor', 'Playwright; opera director',\n",
       "       'Piracy; privateer', 'Cobbler', 'Freestyle skier', 'Manager',\n",
       "       'Surgeon; novelist', 'Worker',\n",
       "       'Cartographer; naval officer; explorer; seafarer',\n",
       "       'Biographer; restaurateur', 'Oboist; music pedagogue', 'Clown',\n",
       "       'Brother', 'Hotel manager', 'High school student',\n",
       "       'Television producer; producer',\n",
       "       'Neurologist; neuropathologist; oncologist', 'Pretender',\n",
       "       'Psychotherapist', 'Activist; ecologist', 'Nan; judoka', 'Pastor',\n",
       "       'Human rights activist', 'Cinematographer; graphic designer',\n",
       "       'Rower', 'Game author', 'Professional wrestler; amateur wrestler',\n",
       "       'Pathologist', 'Nurse; serial killer', 'Corvette captain',\n",
       "       'Designer', 'Informant', 'Jockey', 'Sovereign',\n",
       "       'Sailor; typographer; robber; anarchist', 'Winegrower',\n",
       "       'Saxophonist', 'Intelligence officer', 'Ceramist', 'Nun',\n",
       "       'Anthropologist', 'Activist; founder',\n",
       "       'Game designer; role-playing game designer',\n",
       "       'Choreographer; dancer', 'Sailor; naval officer; pirate',\n",
       "       'Essayist', 'Peace activist', 'Canoeist',\n",
       "       'Chief executive officer', 'Deacon', 'Waiter',\n",
       "       'Agronomist; oenologist', 'Serial killer; manual worker',\n",
       "       'Sprinter', 'Racing driver; formula one driver', 'Astrologer',\n",
       "       'Psychiatrist; child psychiatrist',\n",
       "       'Chief executive officer; chief communications officer',\n",
       "       'Joiner; resistance fighter; mountaineer',\n",
       "       'Cinematographer; camera operator',\n",
       "       'Imam; preacher; docent; electronics technician',\n",
       "       'Mangaka; lyricist', 'Police officer; trade unionist', 'Curler',\n",
       "       'Graphic designer', 'Translator', 'Barrister',\n",
       "       'Mountaineer; explorer', 'Psychologist; serial killer',\n",
       "       'Costume designer; fashion designer', 'Elevator operator'],\n",
       "      dtype=object)"
      ]
     },
     "execution_count": 136,
     "metadata": {},
     "output_type": "execute_result"
    }
   ],
   "source": [
    "# For each column show the frequencies of each distinct value\n",
    "df1[\"Occupation\"].unique()"
   ]
  },
  {
   "cell_type": "markdown",
   "id": "00e143f6",
   "metadata": {},
   "source": [
    "### To reduce the number of 'Occupation' column values, use the 'replace' method to group jobs into: Political, Athlete, Scientist, Artist, Legal, Criminal, Church, Medical, Military and Other."
   ]
  },
  {
   "cell_type": "code",
   "execution_count": 137,
   "id": "bCR4z96ryit4",
   "metadata": {
    "id": "bCR4z96ryit4"
   },
   "outputs": [],
   "source": [
    "df1['Occupation'] = df1['Occupation'].replace(['Politician', 'Aristocrat', 'Revolutionary','Governor','Ruler', 'Homekeeper', 'Socialite',\n",
    "                                               'Political activist','Daimyo', 'Sovereign'],'Political')\n",
    "df1['Occupation'] = df1['Occupation'].replace(['Bullfighter', 'Racing automobile driver', 'Mountain guide; mountaineer',\n",
    "                                               'Formula one driver', 'Racing automobile driver; formula one driver',\n",
    "                                               'Kayaker','Samurai','Amateur wrestler', 'Weightlifter', 'Rally driver',\n",
    "                                               'Alpine skier', 'Aikidoka; judoka; karateka', 'Weightlifter; powerlifter',\n",
    "                                               'Motorcycle racer','Talent manager; talent agent; racing automobile driver',\n",
    "                                               'Snowboarder','Bobsledder','Long-distance runner; marathon runner',\n",
    "                                               'Freestyle skier', 'Nan; judoka','Rower', 'Professional wrestler; amateur wrestler',\n",
    "                                               'Jockey', 'Canoeist', 'Sprinter', 'Racing driver; formula one driver',\n",
    "                                               'Mountaineer; explorer', 'Professional wrestler', 'Game designer; role-playing game designer'],'Athlete')\n",
    "\n",
    "df1['Occupation'] = df1['Occupation'].replace(['Researcher', 'Astronomer','Physician', 'Engineer','Patent inventor','Biologist',\n",
    "                                               'Philosopher','Molecular biologist', 'Explorer', 'Biologist; statistician; geneticist',\n",
    "                                               'Astrologer; magician', 'Cartographer; naval officers; explorer; seafarer',\n",
    "                                               'Anthropologist', 'Astrologer'],'Scientist')\n",
    "\n",
    "df1['Occupation'] = df1['Occupation'].replace(['Author; public figure; pedagogue', 'Pianist', 'Theatre manager; theater director',\n",
    "                                               'Ballet dancer; choreographer', 'Fashion designer', 'Film producer',\n",
    "                                               'Fashion designer; designer', 'Cinematographer', 'Comedian', 'Soprano',\n",
    "                                               'Guitar maker; musical instrument maker', 'Conductor; choir director',\n",
    "                                               'Radio personality', 'Librarian','Novelist', 'Conductor', 'Model', 'Violinist',\n",
    "                                               'Record producer; guitarist; mandolinist', 'Theatrical producer; theater director', \n",
    "                                               'Drummer','Ballet dancer; choreographer; fashion designer; dancer',\n",
    "                                               'Art dealer','Television producer; film producer', 'Art thief','Choreographer',\n",
    "                                               'Seiyū', 'Dancer', 'Documentary filmmaker', 'Biographer', 'Editor', 'Playwright; opera director',\n",
    "                                               'Surgeon; novelist','Biographer; restaurateur','Oboist; music pedagogue', 'Clown',\n",
    "                                               'Television producer; producer','Cinematographer; graphic designer', 'Game author',\n",
    "                                               'Designer', 'Saxophonist', 'Ceramist', 'Choreographer; dancer', 'Essayist', \n",
    "                                               'Cinematographer; camera operator', 'Mangaka; lyricist', 'Curler', 'Graphic designer',\n",
    "                                               'Costume designer; fashion designer', 'Animator; film producer', 'Architect', 'Television director', 'Presenter',\n",
    "                                               'Disc jockey','Letterer; penciller','Publisher', 'Salesperson; television presenter; television personality'],'Artist')\n",
    "\n",
    "df1['Occupation'] = df1['Occupation'].replace(['Lawyer', 'Banker; statistician','Judge','Functionary', 'Trade unionist', 'Banker; rancher',\n",
    "                                               'Jurist', 'Banker', 'Civil servant; banker; financier','Civil servant', 'Barrister','Police officer; trade unionist',\n",
    "                                               'Police officer','Religious figure', 'Nun; social worker', 'Nun; christians jehovah’s witnesses', 'Presbyter',\n",
    "                                               'Pastor', 'Nun', 'Deacon', 'Imam; preacher; docent; electronics technician','General practioner', 'Nurse', 'Nutritionist', 'Nurse; spy', 'Dermatologist','Neuropsychologist',\n",
    "                                               'Neurologist; neuropathologist; oncologist', 'Psychotherapist', 'Pathologist',\n",
    "                                               'Psychiatrist; child psychiatrist', 'Psychologist; psychotherapist', 'Psychologist',\n",
    "                                               'Pedagogue; psychoanalyst'],'Legal-Medical-Church')\n",
    "\n",
    "df1['Occupation'] = df1['Occupation'].replace(['Serial killer', 'Midwife; serial killer', 'Serial killer; spree killer; criminal',\n",
    "                                               'Criminal', 'Serial killer; truck driver', 'Serial killer; criminal',\n",
    "                                               'Nurse; serial killer', 'Serial killer; manual worker', 'Psychologist; serial killer', 'Felony; serial killer',\n",
    "                                               'Drug trafficker; prostitute'],'Criminal')\n",
    "\n",
    "#df1['Occupation'] = df1['Occupation'].replace([],'Church')\n",
    "\n",
    "#df1['Occupation'] = df1['Occupation'].replace(['],'Medical')\n",
    "\n",
    "df1['Occupation'] = df1['Occupation'].replace(['Military personnel', 'Sailor', 'Airman', 'Flying ace', 'Official', 'Corvette captain'],'Military')\n",
    "\n",
    "df1['Occupation'] = df1['Occupation'].replace(['Journalist','Baker','Playboy playmate; beauty pageant contestant', 'Criminal; street vendor', 'Talent agent', 'Entrepreneur',\n",
    "                                               'Teacher', 'Maid', 'Televangelist', 'Businessperson', 'Suffragette; suffragist', 'General practitioner', 'Secretary',\n",
    "                                               'Television presenter', 'Manager; model; professional wrestler', 'Cook; restaurateur', 'Fighter pilot', 'Taxi driver',\n",
    "                                               'Domestic worker', 'Activist', 'Caregiver', 'Model; beauty pageant contestant', 'Drug trafficker', 'Statesperson', 'Executioner', \n",
    "                                               'Merchant', 'Warrior', 'Shah', 'Domestic worker; prostitute', 'Spy', 'Rabbi', 'Announcer', 'Farmer; socialite', 'Farmer', 'Manual worker',\n",
    "                                               'Beauty pageant contestant', 'Joiner', 'Concentration camp guard', 'Dealer', 'Student',\n",
    "                                               'Business executive', 'Sex worker; lgbt rights activist', 'Philanthropist', 'Piracy; privateer', 'Cobbler', 'Manager',\n",
    "                                               'Worker', 'Cartographer; naval officer; explorer; seafarer', 'Brother', 'Hotel manager', 'High school student', 'Pretender',\n",
    "                                               'Activist; ecologist', 'Human rights activist', 'Informant', 'Sailor; typographer; robber; anarchist', 'Winegrower',\n",
    "                                               'Intelligence officer', 'Activist; founder', 'Sailor; naval officer; pirate', 'Peace activist',\n",
    "                                               'Chief executive officer', 'Waiter', 'Agronomist; oenologist', 'Chief executive officer; chief communications officer',\n",
    "                                               'Joiner; resistance fighter; mountaineer', 'Translator','Elevator operator'],'Other')\n",
    "\n",
    "\n",
    "\n"
   ]
  },
  {
   "cell_type": "code",
   "execution_count": 138,
   "id": "e9tuZR4ZJoXW",
   "metadata": {
    "colab": {
     "base_uri": "https://localhost:8080/"
    },
    "id": "e9tuZR4ZJoXW",
    "outputId": "d7a2080a-4d6d-4176-d09d-01de2260a4b6"
   },
   "outputs": [
    {
     "data": {
      "text/plain": [
       "array(['Artist', 'Political', 'Military', 'Athlete', 'Scientist', 'Other',\n",
       "       'Legal-Medical-Church', 'Criminal'], dtype=object)"
      ]
     },
     "execution_count": 138,
     "metadata": {},
     "output_type": "execute_result"
    }
   ],
   "source": [
    "# For each column show the frequencies of each distinct value after grouping\n",
    "df1[\"Occupation\"].unique()"
   ]
  },
  {
   "cell_type": "code",
   "execution_count": 139,
   "id": "GwMfOf3bNWQl",
   "metadata": {
    "colab": {
     "base_uri": "https://localhost:8080/"
    },
    "id": "GwMfOf3bNWQl",
    "outputId": "c69eb9c6-98ff-456c-e8be-470a880b5e14"
   },
   "outputs": [
    {
     "data": {
      "text/plain": [
       "array(['homicide', 'accident', 'natural causes', 'suicide',\n",
       "       'accident; natural causes', 'capital punishment',\n",
       "       'capital punishment; unnatural death', 'unnatural death',\n",
       "       'summary execution', 'death in battle',\n",
       "       'capital punishment; homicide', 'assisted suicide',\n",
       "       'capital punishment; suicide', 'suicide; accident',\n",
       "       'suicide; homicide', 'adhesive bandage', 'extrajudicial killing',\n",
       "       'shipwrecking', 'shooting', 'deportation', 'The Holocaust'],\n",
       "      dtype=object)"
      ]
     },
     "execution_count": 139,
     "metadata": {},
     "output_type": "execute_result"
    }
   ],
   "source": [
    "# For each column show the frequencies of each distinct value\n",
    "df1[\"Manner of death\"].unique()"
   ]
  },
  {
   "cell_type": "markdown",
   "id": "33a52cd9",
   "metadata": {},
   "source": [
    "### To reduce the number of 'Manner of death' column values, use the 'replace' method to group them."
   ]
  },
  {
   "cell_type": "code",
   "execution_count": 140,
   "id": "9192b8b8",
   "metadata": {},
   "outputs": [],
   "source": [
    "df1['Manner of death'] = df1['Manner of death'].replace(['accident; natural causes','natural causes','accident',\n",
    "                                              'unnatural death'],'Natural causes')\n",
    "\n",
    "df1['Manner of death'] = df1['Manner of death'].replace(['capital punishment', 'capital punishment; unnatural death',\n",
    "                                              'summary execution','capital punishment; homicide',\n",
    "                                              'capital punishment; suicide','extrajudicial killing'],'Capital punishment')\n",
    " \n",
    "df1['Manner of death'] = df1['Manner of death'].replace(['homicide','death in battle','suicide; homicide', 'adhesive bandage',\n",
    "                                              'shooting'],'Homicide')\n",
    "\n",
    "df1['Manner of death'] = df1['Manner of death'].replace(['suicide','assisted suicide','suicide; accident'],'Suicide')\n",
    "df1['Manner of death'] = df1['Manner of death'].replace(['deportation', 'The Holocaust'],'Holocaust')"
   ]
  },
  {
   "cell_type": "code",
   "execution_count": 141,
   "id": "0d4e0127",
   "metadata": {},
   "outputs": [
    {
     "data": {
      "text/plain": [
       "array(['Homicide', 'Natural causes', 'Suicide', 'Capital punishment',\n",
       "       'shipwrecking', 'Holocaust'], dtype=object)"
      ]
     },
     "execution_count": 141,
     "metadata": {},
     "output_type": "execute_result"
    }
   ],
   "source": [
    "# For each column show the frequencies of each distinct value after grouping\n",
    "df1[\"Manner of death\"].unique()"
   ]
  },
  {
   "cell_type": "code",
   "execution_count": 142,
   "id": "lCDSf4qIN7BJ",
   "metadata": {
    "id": "lCDSf4qIN7BJ"
   },
   "outputs": [],
   "source": [
    "#Delete columns that I am not interested in from the dataset\n",
    "df1 = df1.drop(['Name'], axis = 1) \n",
    "df1 = df1.drop(['Short description'], axis = 1) \n",
    "df1 = df1.drop(['Birth year'], axis = 1)\n",
    "df1 = df1.drop(['Id'], axis = 1)"
   ]
  },
  {
   "cell_type": "code",
   "execution_count": 143,
   "id": "-FYOSSNLOcQC",
   "metadata": {
    "colab": {
     "base_uri": "https://localhost:8080/",
     "height": 424
    },
    "id": "-FYOSSNLOcQC",
    "outputId": "43b07009-8084-40cf-f9b2-cf14760e15a5"
   },
   "outputs": [
    {
     "data": {
      "text/html": [
       "<div>\n",
       "<style scoped>\n",
       "    .dataframe tbody tr th:only-of-type {\n",
       "        vertical-align: middle;\n",
       "    }\n",
       "\n",
       "    .dataframe tbody tr th {\n",
       "        vertical-align: top;\n",
       "    }\n",
       "\n",
       "    .dataframe thead th {\n",
       "        text-align: right;\n",
       "    }\n",
       "</style>\n",
       "<table border=\"1\" class=\"dataframe\">\n",
       "  <thead>\n",
       "    <tr style=\"text-align: right;\">\n",
       "      <th></th>\n",
       "      <th>Gender</th>\n",
       "      <th>Country</th>\n",
       "      <th>Occupation</th>\n",
       "      <th>Death year</th>\n",
       "      <th>Manner of death</th>\n",
       "      <th>Age of death</th>\n",
       "    </tr>\n",
       "  </thead>\n",
       "  <tbody>\n",
       "    <tr>\n",
       "      <th>262910</th>\n",
       "      <td>Female</td>\n",
       "      <td>North America</td>\n",
       "      <td>Artist</td>\n",
       "      <td>1939.0</td>\n",
       "      <td>Homicide</td>\n",
       "      <td>56.0</td>\n",
       "    </tr>\n",
       "    <tr>\n",
       "      <th>440355</th>\n",
       "      <td>Male</td>\n",
       "      <td>North America</td>\n",
       "      <td>Political</td>\n",
       "      <td>1865.0</td>\n",
       "      <td>Natural causes</td>\n",
       "      <td>50.0</td>\n",
       "    </tr>\n",
       "    <tr>\n",
       "      <th>96431</th>\n",
       "      <td>Male</td>\n",
       "      <td>North America</td>\n",
       "      <td>Artist</td>\n",
       "      <td>2017.0</td>\n",
       "      <td>Natural causes</td>\n",
       "      <td>56.0</td>\n",
       "    </tr>\n",
       "    <tr>\n",
       "      <th>282225</th>\n",
       "      <td>Female</td>\n",
       "      <td>North America</td>\n",
       "      <td>Artist</td>\n",
       "      <td>1933.0</td>\n",
       "      <td>Natural causes</td>\n",
       "      <td>55.0</td>\n",
       "    </tr>\n",
       "    <tr>\n",
       "      <th>390394</th>\n",
       "      <td>Male</td>\n",
       "      <td>Europe</td>\n",
       "      <td>Military</td>\n",
       "      <td>1929.0</td>\n",
       "      <td>Homicide</td>\n",
       "      <td>43.0</td>\n",
       "    </tr>\n",
       "    <tr>\n",
       "      <th>...</th>\n",
       "      <td>...</td>\n",
       "      <td>...</td>\n",
       "      <td>...</td>\n",
       "      <td>...</td>\n",
       "      <td>...</td>\n",
       "      <td>...</td>\n",
       "    </tr>\n",
       "    <tr>\n",
       "      <th>60946</th>\n",
       "      <td>Male</td>\n",
       "      <td>Europe</td>\n",
       "      <td>Artist</td>\n",
       "      <td>2008.0</td>\n",
       "      <td>Natural causes</td>\n",
       "      <td>79.0</td>\n",
       "    </tr>\n",
       "    <tr>\n",
       "      <th>1185913</th>\n",
       "      <td>Male</td>\n",
       "      <td>South America</td>\n",
       "      <td>Other</td>\n",
       "      <td>1969.0</td>\n",
       "      <td>Suicide</td>\n",
       "      <td>44.0</td>\n",
       "    </tr>\n",
       "    <tr>\n",
       "      <th>737744</th>\n",
       "      <td>Female</td>\n",
       "      <td>Asia</td>\n",
       "      <td>Artist</td>\n",
       "      <td>1993.0</td>\n",
       "      <td>Natural causes</td>\n",
       "      <td>95.0</td>\n",
       "    </tr>\n",
       "    <tr>\n",
       "      <th>411792</th>\n",
       "      <td>Male</td>\n",
       "      <td>North America</td>\n",
       "      <td>Political</td>\n",
       "      <td>1929.0</td>\n",
       "      <td>Natural causes</td>\n",
       "      <td>79.0</td>\n",
       "    </tr>\n",
       "    <tr>\n",
       "      <th>630167</th>\n",
       "      <td>Male</td>\n",
       "      <td>North America</td>\n",
       "      <td>Athlete</td>\n",
       "      <td>1990.0</td>\n",
       "      <td>Natural causes</td>\n",
       "      <td>40.0</td>\n",
       "    </tr>\n",
       "  </tbody>\n",
       "</table>\n",
       "<p>2386 rows × 6 columns</p>\n",
       "</div>"
      ],
      "text/plain": [
       "         Gender        Country Occupation  Death year Manner of death  \\\n",
       "262910   Female  North America     Artist      1939.0        Homicide   \n",
       "440355     Male  North America  Political      1865.0  Natural causes   \n",
       "96431      Male  North America     Artist      2017.0  Natural causes   \n",
       "282225   Female  North America     Artist      1933.0  Natural causes   \n",
       "390394     Male         Europe   Military      1929.0        Homicide   \n",
       "...         ...            ...        ...         ...             ...   \n",
       "60946      Male         Europe     Artist      2008.0  Natural causes   \n",
       "1185913    Male  South America      Other      1969.0         Suicide   \n",
       "737744   Female           Asia     Artist      1993.0  Natural causes   \n",
       "411792     Male  North America  Political      1929.0  Natural causes   \n",
       "630167     Male  North America    Athlete      1990.0  Natural causes   \n",
       "\n",
       "         Age of death  \n",
       "262910           56.0  \n",
       "440355           50.0  \n",
       "96431            56.0  \n",
       "282225           55.0  \n",
       "390394           43.0  \n",
       "...               ...  \n",
       "60946            79.0  \n",
       "1185913          44.0  \n",
       "737744           95.0  \n",
       "411792           79.0  \n",
       "630167           40.0  \n",
       "\n",
       "[2386 rows x 6 columns]"
      ]
     },
     "execution_count": 143,
     "metadata": {},
     "output_type": "execute_result"
    }
   ],
   "source": [
    "#Show the dataset after the changes\n",
    "df1"
   ]
  },
  {
   "cell_type": "code",
   "execution_count": 144,
   "id": "53f36a5f",
   "metadata": {},
   "outputs": [],
   "source": [
    "df1['Death year'] = df1['Death year'].astype(int)"
   ]
  },
  {
   "cell_type": "code",
   "execution_count": 145,
   "id": "a76e8ba1",
   "metadata": {},
   "outputs": [
    {
     "data": {
      "text/plain": [
       "array([ 1939,  1865,  2017,  1933,  1929,  1962,  2010,  2007,  2018,\n",
       "        1994,  2015,  1928,  1915,  1685,  1998,  1903,  2006,  1992,\n",
       "        1876,  1811,  2014,  2013,  1858,  1969,  1912,  1963,  2016,\n",
       "        1982,  1974,  2004,  1921,  1983,  2002,  1934,  1952,  2005,\n",
       "        1919,  1826,  1950,  1972,  1973,  2008,  1996,  1993,  2003,\n",
       "        1995,  1908,  1981,  1967,  1945,  2009,  2001,  1978,  1989,\n",
       "        2019,  1890,  1991,  1884,  1980,  1987,  1966,  2012,  1938,\n",
       "        1940,  1924,  1964,  1790,  1920,  1922,  1997,  1960,  1805,\n",
       "        1951,  1976,  2000,  1968,  1961,  1330,  1990,  1913,  1927,\n",
       "        1977,  1683,  1944,  1959,  1834,  1956,  1953,  1936,  1943,\n",
       "        1905,  1763,  1988,  1874,  1999,  1898,  2011,  1975,  1657,\n",
       "        1930,  1873,  1529,  1957,  1885,  1821,  1979,   659,  1600,\n",
       "        1914,  1907,  1917,  1901,  1616,  1780,  1946,  1880,  1893,\n",
       "        1810,  1937,  1853,  1892,  1855,  1954,  1986,  1889,  1916,\n",
       "        1949,  1965,  1955,  1918,  1923,  1288,  1848,  1809,  1861,\n",
       "        1887,  1849,  1882,  1877,  1897,  1942,  1624,  1985,  1984,\n",
       "        1662,  1971,  1643,  1773,  1799,  1593,   301,  1900,  1899,\n",
       "         750,  1692,  1804,  1881,  1802,  1664,  1910,  1871,  1931,\n",
       "        1870,  1797,  1932,  1779,  1925,  1888,  1941,  1831,  1471,\n",
       "        1863,  1860,  1798,  1911,  1948,  1828,  1935,  1909,  1452,\n",
       "        1947,  1844,  1582,  1906,  1468,   884,  1832,  1894,  1854,\n",
       "        1671,  1891,  1872,  1711,  1705,   713,  1757,  1822,   617,\n",
       "        1878,  1621,  1820,  1896,  1970,   820,    43,  1875,  1866,\n",
       "        1573,  1839,  1602,  1647,  1926,  1902,  1791,  1436,  1850,\n",
       "        1673,  1185,  1833,  1958,   -41,  1862,  1817,  1869,  1054,\n",
       "        1221,  1895,  1402,   192,  1723,  1814,  1840,    -1,   908,\n",
       "        1139,  1707,  1752,  1430,   168,  1792,  1857,  1677,  1808,\n",
       "       -1145,  1879,  1651,  1847,  1795,   501,  1813,  1856,  1681,\n",
       "        1904,  1886,  1753,  1837,  1747,  1777,  1411,  1512,    65,\n",
       "         121,  1730,  1250,  -263,  1541,  1632,  1883,  1544,  1842,\n",
       "        1788,  1851,  1566])"
      ]
     },
     "execution_count": 145,
     "metadata": {},
     "output_type": "execute_result"
    }
   ],
   "source": [
    "df1[\"Death year\"].unique()"
   ]
  },
  {
   "cell_type": "code",
   "execution_count": 146,
   "id": "ab00ffd7",
   "metadata": {},
   "outputs": [],
   "source": [
    "indexrow = df1[df1['Death year'] <= 1000].index\n",
    "df1.drop(indexrow, inplace = True)"
   ]
  },
  {
   "cell_type": "code",
   "execution_count": 147,
   "id": "9f28d87c",
   "metadata": {},
   "outputs": [
    {
     "data": {
      "text/plain": [
       "array([1939, 1865, 2017, 1933, 1929, 1962, 2010, 2007, 2018, 1994, 2015,\n",
       "       1928, 1915, 1685, 1998, 1903, 2006, 1992, 1876, 1811, 2014, 2013,\n",
       "       1858, 1969, 1912, 1963, 2016, 1982, 1974, 2004, 1921, 1983, 2002,\n",
       "       1934, 1952, 2005, 1919, 1826, 1950, 1972, 1973, 2008, 1996, 1993,\n",
       "       2003, 1995, 1908, 1981, 1967, 1945, 2009, 2001, 1978, 1989, 2019,\n",
       "       1890, 1991, 1884, 1980, 1987, 1966, 2012, 1938, 1940, 1924, 1964,\n",
       "       1790, 1920, 1922, 1997, 1960, 1805, 1951, 1976, 2000, 1968, 1961,\n",
       "       1330, 1990, 1913, 1927, 1977, 1683, 1944, 1959, 1834, 1956, 1953,\n",
       "       1936, 1943, 1905, 1763, 1988, 1874, 1999, 1898, 2011, 1975, 1657,\n",
       "       1930, 1873, 1529, 1957, 1885, 1821, 1979, 1600, 1914, 1907, 1917,\n",
       "       1901, 1616, 1780, 1946, 1880, 1893, 1810, 1937, 1853, 1892, 1855,\n",
       "       1954, 1986, 1889, 1916, 1949, 1965, 1955, 1918, 1923, 1288, 1848,\n",
       "       1809, 1861, 1887, 1849, 1882, 1877, 1897, 1942, 1624, 1985, 1984,\n",
       "       1662, 1971, 1643, 1773, 1799, 1593, 1900, 1899, 1692, 1804, 1881,\n",
       "       1802, 1664, 1910, 1871, 1931, 1870, 1797, 1932, 1779, 1925, 1888,\n",
       "       1941, 1831, 1471, 1863, 1860, 1798, 1911, 1948, 1828, 1935, 1909,\n",
       "       1452, 1947, 1844, 1582, 1906, 1468, 1832, 1894, 1854, 1671, 1891,\n",
       "       1872, 1711, 1705, 1757, 1822, 1878, 1621, 1820, 1896, 1970, 1875,\n",
       "       1866, 1573, 1839, 1602, 1647, 1926, 1902, 1791, 1436, 1850, 1673,\n",
       "       1185, 1833, 1958, 1862, 1817, 1869, 1054, 1221, 1895, 1402, 1723,\n",
       "       1814, 1840, 1139, 1707, 1752, 1430, 1792, 1857, 1677, 1808, 1879,\n",
       "       1651, 1847, 1795, 1813, 1856, 1681, 1904, 1886, 1753, 1837, 1747,\n",
       "       1777, 1411, 1512, 1730, 1250, 1541, 1632, 1883, 1544, 1842, 1788,\n",
       "       1851, 1566])"
      ]
     },
     "execution_count": 147,
     "metadata": {},
     "output_type": "execute_result"
    }
   ],
   "source": [
    "df1[\"Death year\"].unique()"
   ]
  },
  {
   "cell_type": "code",
   "execution_count": 148,
   "id": "43cddba0",
   "metadata": {},
   "outputs": [
    {
     "data": {
      "text/plain": [
       "<seaborn.axisgrid.PairGrid at 0x26bdc565940>"
      ]
     },
     "execution_count": 148,
     "metadata": {},
     "output_type": "execute_result"
    },
    {
     "data": {
      "image/png": "[encoded data removed]",
      "text/plain": [
       "<Figure size 360x360 with 6 Axes>"
      ]
     },
     "metadata": {
      "needs_background": "light"
     },
     "output_type": "display_data"
    }
   ],
   "source": [
    "#I will now produce a pairplot to look for possible interesting patterns.\n",
    "sns.pairplot((df1))"
   ]
  },
  {
   "cell_type": "markdown",
   "id": "da6332ee",
   "metadata": {},
   "source": [
    "Show histograms for all numeric values"
   ]
  },
  {
   "cell_type": "code",
   "execution_count": 149,
   "id": "2eec377c",
   "metadata": {},
   "outputs": [
    {
     "data": {
      "image/png": "[encoded data removed]",
      "text/plain": [
       "<Figure size 504x504 with 2 Axes>"
      ]
     },
     "metadata": {
      "needs_background": "light"
     },
     "output_type": "display_data"
    }
   ],
   "source": [
    "pd.DataFrame.hist(df1, figsize = [7,7]);"
   ]
  },
  {
   "cell_type": "markdown",
   "id": "6586a66f",
   "metadata": {},
   "source": [
    "Show histograms for Country"
   ]
  },
  {
   "cell_type": "code",
   "execution_count": 150,
   "id": "9e817683",
   "metadata": {},
   "outputs": [
    {
     "data": {
      "image/png": "[encoded data removed]",
      "text/plain": [
       "<Figure size 720x432 with 1 Axes>"
      ]
     },
     "metadata": {
      "needs_background": "light"
     },
     "output_type": "display_data"
    }
   ],
   "source": [
    "plt.figure(figsize = (10,6))\n",
    "plt.hist(x = df1[\"Country\"], bins = 20, ec = \"grey\", fc = \"orange\")\n",
    "plt.show()"
   ]
  },
  {
   "cell_type": "markdown",
   "id": "56baf5c3",
   "metadata": {},
   "source": [
    "Show histograms for Occupation"
   ]
  },
  {
   "cell_type": "code",
   "execution_count": 151,
   "id": "2699fa64",
   "metadata": {},
   "outputs": [
    {
     "data": {
      "image/png": "[encoded data removed]",
      "text/plain": [
       "<Figure size 720x432 with 1 Axes>"
      ]
     },
     "metadata": {
      "needs_background": "light"
     },
     "output_type": "display_data"
    }
   ],
   "source": [
    "plt.figure(figsize = (10,6))\n",
    "plt.hist(x = df1[\"Occupation\"], bins = 20, ec = \"grey\", fc = \"orange\")\n",
    "plt.show()"
   ]
  },
  {
   "cell_type": "markdown",
   "id": "baa1ea01",
   "metadata": {},
   "source": [
    "Show the histogram of the year of death and the age of death of the African continent"
   ]
  },
  {
   "cell_type": "code",
   "execution_count": 152,
   "id": "8c23c177",
   "metadata": {},
   "outputs": [
    {
     "data": {
      "image/png": "[encoded data removed]",
      "text/plain": [
       "<Figure size 504x504 with 2 Axes>"
      ]
     },
     "metadata": {
      "needs_background": "light"
     },
     "output_type": "display_data"
    }
   ],
   "source": [
    "df2 = df1.loc[df1['Country']== 'Africa']\n",
    "pd.DataFrame.hist(df2, figsize = [7,7]);"
   ]
  },
  {
   "cell_type": "markdown",
   "id": "1b32ed9b",
   "metadata": {},
   "source": [
    "Show by occupation how many people died by suicide"
   ]
  },
  {
   "cell_type": "code",
   "execution_count": 153,
   "id": "51ea8aa8",
   "metadata": {},
   "outputs": [
    {
     "data": {
      "image/png": "[encoded data removed]",
      "text/plain": [
       "<Figure size 720x432 with 1 Axes>"
      ]
     },
     "metadata": {
      "needs_background": "light"
     },
     "output_type": "display_data"
    },
    {
     "name": "stdout",
     "output_type": "stream",
     "text": [
      "From the histograms we see that many artists died by suicide\n"
     ]
    }
   ],
   "source": [
    "df3 = df1.loc[df1['Manner of death']== 'Suicide']\n",
    "#df4 = df3.loc[df3['Occupation']== 'Male']\n",
    "\n",
    "plt.figure(figsize = (10,6))\n",
    "plt.hist(x = df3[\"Occupation\"], \n",
    "             bins = 20,\n",
    "             ec = \"grey\",\n",
    "             fc = \"orange\", rwidth=10 )\n",
    "\n",
    "plt.show()\n",
    "print(\"From the histograms we see that many artists died by suicide\")"
   ]
  },
  {
   "cell_type": "code",
   "execution_count": 154,
   "id": "c0f484e3",
   "metadata": {},
   "outputs": [
    {
     "data": {
      "image/png": "[encoded data removed]",
      "text/plain": [
       "<Figure size 720x432 with 1 Axes>"
      ]
     },
     "metadata": {
      "needs_background": "light"
     },
     "output_type": "display_data"
    },
    {
     "name": "stdout",
     "output_type": "stream",
     "text": [
      "From the histograms we see that suicides have been more in Europe\n"
     ]
    }
   ],
   "source": [
    "df4 = df1.loc[df1['Manner of death']== 'Suicide']\n",
    "plt.figure(figsize = (10,6))\n",
    "plt.hist(x = df3[\"Country\"], \n",
    "             bins = 20,\n",
    "             ec = \"grey\",\n",
    "             fc = \"orange\", rwidth=10 )\n",
    "\n",
    "plt.show()\n",
    "print(\"From the histograms we see that suicides have been more in Europe\")"
   ]
  },
  {
   "cell_type": "code",
   "execution_count": 155,
   "id": "2624a3fa",
   "metadata": {},
   "outputs": [
    {
     "data": {
      "image/png": "[encoded data removed]",
      "text/plain": [
       "<Figure size 432x288 with 1 Axes>"
      ]
     },
     "metadata": {
      "needs_background": "light"
     },
     "output_type": "display_data"
    },
    {
     "name": "stdout",
     "output_type": "stream",
     "text": [
      "From the histograms we see that there were many more Vip men than women\n"
     ]
    }
   ],
   "source": [
    "plt.hist(x = df1[\"Gender\"], \n",
    "             bins = 20,\n",
    "             ec = \"grey\",\n",
    "             fc = \"orange\", rwidth=10 )\n",
    "plt.show()\n",
    "print(\"From the histograms we see that there were many more Vip men than women\")"
   ]
  },
  {
   "cell_type": "code",
   "execution_count": 156,
   "id": "9d9508e5",
   "metadata": {},
   "outputs": [
    {
     "data": {
      "text/plain": [
       "<seaborn.axisgrid.PairGrid at 0x26bd2b87be0>"
      ]
     },
     "execution_count": 156,
     "metadata": {},
     "output_type": "execute_result"
    },
    {
     "data": {
      "image/png": "[encoded data removed]",
      "text/plain": [
       "<Figure size 360x360 with 6 Axes>"
      ]
     },
     "metadata": {
      "needs_background": "light"
     },
     "output_type": "display_data"
    }
   ],
   "source": [
    "sns.pairplot((df1)) #Plot pairwise relationships in the dataset"
   ]
  },
  {
   "cell_type": "markdown",
   "id": "d35e9c2e",
   "metadata": {},
   "source": [
    "### Prepare the lists of numeric features and categorical features"
   ]
  },
  {
   "cell_type": "code",
   "execution_count": 157,
   "id": "99a06e28",
   "metadata": {},
   "outputs": [
    {
     "name": "stdout",
     "output_type": "stream",
     "text": [
      "The non-numeric features are:\n",
      "['Gender' 'Country' 'Occupation' 'Manner of death']\n"
     ]
    }
   ],
   "source": [
    "categorical_features = df1.dtypes.loc[df1.dtypes == 'object'].index.values\n",
    "print(\"The non-numeric features are:\")\n",
    "print(categorical_features)"
   ]
  },
  {
   "cell_type": "code",
   "execution_count": 158,
   "id": "c28d1ae4",
   "metadata": {},
   "outputs": [
    {
     "name": "stdout",
     "output_type": "stream",
     "text": [
      "The numeric features are:\n",
      "['Age of death', 'Death year']\n"
     ]
    }
   ],
   "source": [
    "numeric_features = list(set(df1.dtypes.index.values)-set(categorical_features))\n",
    "print(\"The numeric features are:\")\n",
    "print(numeric_features)"
   ]
  },
  {
   "cell_type": "code",
   "execution_count": 159,
   "id": "09e03df4",
   "metadata": {},
   "outputs": [
    {
     "name": "stdout",
     "output_type": "stream",
     "text": [
      "The categorical features are:\n",
      "['Manner of death', 'Occupation', 'Gender', 'Country']\n"
     ]
    }
   ],
   "source": [
    "categorical_features = list(set(categorical_features))\n",
    "print(\"The categorical features are:\")\n",
    "print(categorical_features)"
   ]
  },
  {
   "cell_type": "markdown",
   "id": "e31be567",
   "metadata": {},
   "source": [
    "### Trasforming categorical into numeric features"
   ]
  },
  {
   "cell_type": "markdown",
   "id": "2a35ad28",
   "metadata": {},
   "source": [
    "I prepare a preprocessor that using the 'OneHotEncoder' function transforms the categorical featurers into numeric ones."
   ]
  },
  {
   "cell_type": "code",
   "execution_count": 160,
   "id": "759a5c5e",
   "metadata": {},
   "outputs": [],
   "source": [
    "#Column Transformer\n",
    "\n",
    "transf_dtype = np.int32\n",
    "\n",
    "categorical_transformer = OneHotEncoder(handle_unknown='ignore', sparse = False, dtype = transf_dtype)\n",
    "\n",
    "#ordinal_transformer = OrdinalEncoder(dtype = transf_dtype)\n",
    "preprocessor = ColumnTransformer(\n",
    "    transformers = [('cat', categorical_transformer, categorical_features)\n",
    "                   ],\n",
    "                    remainder = 'passthrough'\n",
    "    )"
   ]
  },
  {
   "cell_type": "code",
   "execution_count": 161,
   "id": "62fe338a",
   "metadata": {},
   "outputs": [
    {
     "data": {
      "text/plain": [
       "ColumnTransformer(remainder='passthrough',\n",
       "                  transformers=[('cat',\n",
       "                                 OneHotEncoder(dtype=<class 'numpy.int32'>,\n",
       "                                               handle_unknown='ignore',\n",
       "                                               sparse=False),\n",
       "                                 ['Manner of death', 'Occupation', 'Gender',\n",
       "                                  'Country'])])"
      ]
     },
     "execution_count": 161,
     "metadata": {},
     "output_type": "execute_result"
    }
   ],
   "source": [
    "\n",
    "\n",
    "#fit preprocessor with data from dataframe df1\n",
    "preprocessor.fit(df1)\n",
    "\n"
   ]
  },
  {
   "cell_type": "code",
   "execution_count": 162,
   "id": "94a2b28f",
   "metadata": {},
   "outputs": [
    {
     "data": {
      "text/plain": [
       "array([[0.000e+00, 0.000e+00, 1.000e+00, ..., 0.000e+00, 1.939e+03,\n",
       "        5.600e+01],\n",
       "       [0.000e+00, 0.000e+00, 0.000e+00, ..., 0.000e+00, 1.865e+03,\n",
       "        5.000e+01],\n",
       "       [0.000e+00, 0.000e+00, 0.000e+00, ..., 0.000e+00, 2.017e+03,\n",
       "        5.600e+01],\n",
       "       ...,\n",
       "       [0.000e+00, 0.000e+00, 0.000e+00, ..., 0.000e+00, 1.993e+03,\n",
       "        9.500e+01],\n",
       "       [0.000e+00, 0.000e+00, 0.000e+00, ..., 0.000e+00, 1.929e+03,\n",
       "        7.900e+01],\n",
       "       [0.000e+00, 0.000e+00, 0.000e+00, ..., 0.000e+00, 1.990e+03,\n",
       "        4.000e+01]])"
      ]
     },
     "execution_count": 162,
     "metadata": {},
     "output_type": "execute_result"
    }
   ],
   "source": [
    "#Execute trasformation\n",
    "df1_p = preprocessor.fit_transform(df1)\n",
    "df1_p #numpy ndarray"
   ]
  },
  {
   "cell_type": "code",
   "execution_count": 163,
   "id": "1e70cb48",
   "metadata": {},
   "outputs": [
    {
     "data": {
      "text/html": [
       "<div>\n",
       "<style scoped>\n",
       "    .dataframe tbody tr th:only-of-type {\n",
       "        vertical-align: middle;\n",
       "    }\n",
       "\n",
       "    .dataframe tbody tr th {\n",
       "        vertical-align: top;\n",
       "    }\n",
       "\n",
       "    .dataframe thead th {\n",
       "        text-align: right;\n",
       "    }\n",
       "</style>\n",
       "<table border=\"1\" class=\"dataframe\">\n",
       "  <thead>\n",
       "    <tr style=\"text-align: right;\">\n",
       "      <th></th>\n",
       "      <th>0</th>\n",
       "      <th>1</th>\n",
       "      <th>2</th>\n",
       "      <th>3</th>\n",
       "      <th>4</th>\n",
       "      <th>5</th>\n",
       "      <th>6</th>\n",
       "      <th>7</th>\n",
       "      <th>8</th>\n",
       "      <th>9</th>\n",
       "      <th>...</th>\n",
       "      <th>16</th>\n",
       "      <th>17</th>\n",
       "      <th>18</th>\n",
       "      <th>19</th>\n",
       "      <th>20</th>\n",
       "      <th>21</th>\n",
       "      <th>22</th>\n",
       "      <th>23</th>\n",
       "      <th>24</th>\n",
       "      <th>25</th>\n",
       "    </tr>\n",
       "  </thead>\n",
       "  <tbody>\n",
       "    <tr>\n",
       "      <th>0</th>\n",
       "      <td>0.0</td>\n",
       "      <td>0.0</td>\n",
       "      <td>1.0</td>\n",
       "      <td>0.0</td>\n",
       "      <td>0.0</td>\n",
       "      <td>0.0</td>\n",
       "      <td>1.0</td>\n",
       "      <td>0.0</td>\n",
       "      <td>0.0</td>\n",
       "      <td>0.0</td>\n",
       "      <td>...</td>\n",
       "      <td>0.0</td>\n",
       "      <td>0.0</td>\n",
       "      <td>0.0</td>\n",
       "      <td>0.0</td>\n",
       "      <td>0.0</td>\n",
       "      <td>1.0</td>\n",
       "      <td>0.0</td>\n",
       "      <td>0.0</td>\n",
       "      <td>1939.0</td>\n",
       "      <td>56.0</td>\n",
       "    </tr>\n",
       "    <tr>\n",
       "      <th>1</th>\n",
       "      <td>0.0</td>\n",
       "      <td>0.0</td>\n",
       "      <td>0.0</td>\n",
       "      <td>1.0</td>\n",
       "      <td>0.0</td>\n",
       "      <td>0.0</td>\n",
       "      <td>0.0</td>\n",
       "      <td>0.0</td>\n",
       "      <td>0.0</td>\n",
       "      <td>0.0</td>\n",
       "      <td>...</td>\n",
       "      <td>0.0</td>\n",
       "      <td>0.0</td>\n",
       "      <td>0.0</td>\n",
       "      <td>0.0</td>\n",
       "      <td>0.0</td>\n",
       "      <td>1.0</td>\n",
       "      <td>0.0</td>\n",
       "      <td>0.0</td>\n",
       "      <td>1865.0</td>\n",
       "      <td>50.0</td>\n",
       "    </tr>\n",
       "    <tr>\n",
       "      <th>2</th>\n",
       "      <td>0.0</td>\n",
       "      <td>0.0</td>\n",
       "      <td>0.0</td>\n",
       "      <td>1.0</td>\n",
       "      <td>0.0</td>\n",
       "      <td>0.0</td>\n",
       "      <td>1.0</td>\n",
       "      <td>0.0</td>\n",
       "      <td>0.0</td>\n",
       "      <td>0.0</td>\n",
       "      <td>...</td>\n",
       "      <td>0.0</td>\n",
       "      <td>0.0</td>\n",
       "      <td>0.0</td>\n",
       "      <td>0.0</td>\n",
       "      <td>0.0</td>\n",
       "      <td>1.0</td>\n",
       "      <td>0.0</td>\n",
       "      <td>0.0</td>\n",
       "      <td>2017.0</td>\n",
       "      <td>56.0</td>\n",
       "    </tr>\n",
       "    <tr>\n",
       "      <th>3</th>\n",
       "      <td>0.0</td>\n",
       "      <td>0.0</td>\n",
       "      <td>0.0</td>\n",
       "      <td>1.0</td>\n",
       "      <td>0.0</td>\n",
       "      <td>0.0</td>\n",
       "      <td>1.0</td>\n",
       "      <td>0.0</td>\n",
       "      <td>0.0</td>\n",
       "      <td>0.0</td>\n",
       "      <td>...</td>\n",
       "      <td>0.0</td>\n",
       "      <td>0.0</td>\n",
       "      <td>0.0</td>\n",
       "      <td>0.0</td>\n",
       "      <td>0.0</td>\n",
       "      <td>1.0</td>\n",
       "      <td>0.0</td>\n",
       "      <td>0.0</td>\n",
       "      <td>1933.0</td>\n",
       "      <td>55.0</td>\n",
       "    </tr>\n",
       "    <tr>\n",
       "      <th>4</th>\n",
       "      <td>0.0</td>\n",
       "      <td>0.0</td>\n",
       "      <td>1.0</td>\n",
       "      <td>0.0</td>\n",
       "      <td>0.0</td>\n",
       "      <td>0.0</td>\n",
       "      <td>0.0</td>\n",
       "      <td>0.0</td>\n",
       "      <td>0.0</td>\n",
       "      <td>0.0</td>\n",
       "      <td>...</td>\n",
       "      <td>0.0</td>\n",
       "      <td>0.0</td>\n",
       "      <td>0.0</td>\n",
       "      <td>0.0</td>\n",
       "      <td>1.0</td>\n",
       "      <td>0.0</td>\n",
       "      <td>0.0</td>\n",
       "      <td>0.0</td>\n",
       "      <td>1929.0</td>\n",
       "      <td>43.0</td>\n",
       "    </tr>\n",
       "    <tr>\n",
       "      <th>...</th>\n",
       "      <td>...</td>\n",
       "      <td>...</td>\n",
       "      <td>...</td>\n",
       "      <td>...</td>\n",
       "      <td>...</td>\n",
       "      <td>...</td>\n",
       "      <td>...</td>\n",
       "      <td>...</td>\n",
       "      <td>...</td>\n",
       "      <td>...</td>\n",
       "      <td>...</td>\n",
       "      <td>...</td>\n",
       "      <td>...</td>\n",
       "      <td>...</td>\n",
       "      <td>...</td>\n",
       "      <td>...</td>\n",
       "      <td>...</td>\n",
       "      <td>...</td>\n",
       "      <td>...</td>\n",
       "      <td>...</td>\n",
       "      <td>...</td>\n",
       "    </tr>\n",
       "    <tr>\n",
       "      <th>2363</th>\n",
       "      <td>0.0</td>\n",
       "      <td>0.0</td>\n",
       "      <td>0.0</td>\n",
       "      <td>1.0</td>\n",
       "      <td>0.0</td>\n",
       "      <td>0.0</td>\n",
       "      <td>1.0</td>\n",
       "      <td>0.0</td>\n",
       "      <td>0.0</td>\n",
       "      <td>0.0</td>\n",
       "      <td>...</td>\n",
       "      <td>0.0</td>\n",
       "      <td>0.0</td>\n",
       "      <td>0.0</td>\n",
       "      <td>0.0</td>\n",
       "      <td>1.0</td>\n",
       "      <td>0.0</td>\n",
       "      <td>0.0</td>\n",
       "      <td>0.0</td>\n",
       "      <td>2008.0</td>\n",
       "      <td>79.0</td>\n",
       "    </tr>\n",
       "    <tr>\n",
       "      <th>2364</th>\n",
       "      <td>0.0</td>\n",
       "      <td>0.0</td>\n",
       "      <td>0.0</td>\n",
       "      <td>0.0</td>\n",
       "      <td>1.0</td>\n",
       "      <td>0.0</td>\n",
       "      <td>0.0</td>\n",
       "      <td>0.0</td>\n",
       "      <td>0.0</td>\n",
       "      <td>0.0</td>\n",
       "      <td>...</td>\n",
       "      <td>0.0</td>\n",
       "      <td>0.0</td>\n",
       "      <td>0.0</td>\n",
       "      <td>0.0</td>\n",
       "      <td>0.0</td>\n",
       "      <td>0.0</td>\n",
       "      <td>0.0</td>\n",
       "      <td>1.0</td>\n",
       "      <td>1969.0</td>\n",
       "      <td>44.0</td>\n",
       "    </tr>\n",
       "    <tr>\n",
       "      <th>2365</th>\n",
       "      <td>0.0</td>\n",
       "      <td>0.0</td>\n",
       "      <td>0.0</td>\n",
       "      <td>1.0</td>\n",
       "      <td>0.0</td>\n",
       "      <td>0.0</td>\n",
       "      <td>1.0</td>\n",
       "      <td>0.0</td>\n",
       "      <td>0.0</td>\n",
       "      <td>0.0</td>\n",
       "      <td>...</td>\n",
       "      <td>0.0</td>\n",
       "      <td>0.0</td>\n",
       "      <td>1.0</td>\n",
       "      <td>0.0</td>\n",
       "      <td>0.0</td>\n",
       "      <td>0.0</td>\n",
       "      <td>0.0</td>\n",
       "      <td>0.0</td>\n",
       "      <td>1993.0</td>\n",
       "      <td>95.0</td>\n",
       "    </tr>\n",
       "    <tr>\n",
       "      <th>2366</th>\n",
       "      <td>0.0</td>\n",
       "      <td>0.0</td>\n",
       "      <td>0.0</td>\n",
       "      <td>1.0</td>\n",
       "      <td>0.0</td>\n",
       "      <td>0.0</td>\n",
       "      <td>0.0</td>\n",
       "      <td>0.0</td>\n",
       "      <td>0.0</td>\n",
       "      <td>0.0</td>\n",
       "      <td>...</td>\n",
       "      <td>0.0</td>\n",
       "      <td>0.0</td>\n",
       "      <td>0.0</td>\n",
       "      <td>0.0</td>\n",
       "      <td>0.0</td>\n",
       "      <td>1.0</td>\n",
       "      <td>0.0</td>\n",
       "      <td>0.0</td>\n",
       "      <td>1929.0</td>\n",
       "      <td>79.0</td>\n",
       "    </tr>\n",
       "    <tr>\n",
       "      <th>2367</th>\n",
       "      <td>0.0</td>\n",
       "      <td>0.0</td>\n",
       "      <td>0.0</td>\n",
       "      <td>1.0</td>\n",
       "      <td>0.0</td>\n",
       "      <td>0.0</td>\n",
       "      <td>0.0</td>\n",
       "      <td>1.0</td>\n",
       "      <td>0.0</td>\n",
       "      <td>0.0</td>\n",
       "      <td>...</td>\n",
       "      <td>0.0</td>\n",
       "      <td>0.0</td>\n",
       "      <td>0.0</td>\n",
       "      <td>0.0</td>\n",
       "      <td>0.0</td>\n",
       "      <td>1.0</td>\n",
       "      <td>0.0</td>\n",
       "      <td>0.0</td>\n",
       "      <td>1990.0</td>\n",
       "      <td>40.0</td>\n",
       "    </tr>\n",
       "  </tbody>\n",
       "</table>\n",
       "<p>2368 rows × 26 columns</p>\n",
       "</div>"
      ],
      "text/plain": [
       "       0    1    2    3    4    5    6    7    8    9   ...   16   17   18  \\\n",
       "0     0.0  0.0  1.0  0.0  0.0  0.0  1.0  0.0  0.0  0.0  ...  0.0  0.0  0.0   \n",
       "1     0.0  0.0  0.0  1.0  0.0  0.0  0.0  0.0  0.0  0.0  ...  0.0  0.0  0.0   \n",
       "2     0.0  0.0  0.0  1.0  0.0  0.0  1.0  0.0  0.0  0.0  ...  0.0  0.0  0.0   \n",
       "3     0.0  0.0  0.0  1.0  0.0  0.0  1.0  0.0  0.0  0.0  ...  0.0  0.0  0.0   \n",
       "4     0.0  0.0  1.0  0.0  0.0  0.0  0.0  0.0  0.0  0.0  ...  0.0  0.0  0.0   \n",
       "...   ...  ...  ...  ...  ...  ...  ...  ...  ...  ...  ...  ...  ...  ...   \n",
       "2363  0.0  0.0  0.0  1.0  0.0  0.0  1.0  0.0  0.0  0.0  ...  0.0  0.0  0.0   \n",
       "2364  0.0  0.0  0.0  0.0  1.0  0.0  0.0  0.0  0.0  0.0  ...  0.0  0.0  0.0   \n",
       "2365  0.0  0.0  0.0  1.0  0.0  0.0  1.0  0.0  0.0  0.0  ...  0.0  0.0  1.0   \n",
       "2366  0.0  0.0  0.0  1.0  0.0  0.0  0.0  0.0  0.0  0.0  ...  0.0  0.0  0.0   \n",
       "2367  0.0  0.0  0.0  1.0  0.0  0.0  0.0  1.0  0.0  0.0  ...  0.0  0.0  0.0   \n",
       "\n",
       "       19   20   21   22   23      24    25  \n",
       "0     0.0  0.0  1.0  0.0  0.0  1939.0  56.0  \n",
       "1     0.0  0.0  1.0  0.0  0.0  1865.0  50.0  \n",
       "2     0.0  0.0  1.0  0.0  0.0  2017.0  56.0  \n",
       "3     0.0  0.0  1.0  0.0  0.0  1933.0  55.0  \n",
       "4     0.0  1.0  0.0  0.0  0.0  1929.0  43.0  \n",
       "...   ...  ...  ...  ...  ...     ...   ...  \n",
       "2363  0.0  1.0  0.0  0.0  0.0  2008.0  79.0  \n",
       "2364  0.0  0.0  0.0  0.0  1.0  1969.0  44.0  \n",
       "2365  0.0  0.0  0.0  0.0  0.0  1993.0  95.0  \n",
       "2366  0.0  0.0  1.0  0.0  0.0  1929.0  79.0  \n",
       "2367  0.0  0.0  1.0  0.0  0.0  1990.0  40.0  \n",
       "\n",
       "[2368 rows x 26 columns]"
      ]
     },
     "execution_count": 163,
     "metadata": {},
     "output_type": "execute_result"
    }
   ],
   "source": [
    "##pd.Dataframe transform ndarray into pandas dataframe\n",
    "df_p = pd.DataFrame(df1_p)\n",
    "df_p"
   ]
  },
  {
   "cell_type": "code",
   "execution_count": 164,
   "id": "d1c8a2ee",
   "metadata": {},
   "outputs": [
    {
     "data": {
      "image/png": "[encoded data removed]",
      "text/plain": [
       "<Figure size 432x288 with 1 Axes>"
      ]
     },
     "metadata": {
      "needs_background": "light"
     },
     "output_type": "display_data"
    }
   ],
   "source": [
    "focus = [24,25]\n",
    "plt.scatter(df1_p[:,focus[0]], df1_p[:,focus[1]]\n",
    "            , c='white'          # color filling the data markers\n",
    "            , edgecolors='black' # edge color for data markers\n",
    "            , marker='o'         # data marker shape, e.g. triangles (v<>^), square (s), star (*), ...\n",
    "            , s=50)              # data marker size\n",
    "plt.grid()  # plots a grid on the data\n",
    "plt.show()"
   ]
  },
  {
   "cell_type": "markdown",
   "id": "AJCh0qhrmkxv",
   "metadata": {
    "id": "AJCh0qhrmkxv"
   },
   "source": [
    "# ***Clustering***"
   ]
  },
  {
   "cell_type": "markdown",
   "id": "79042eb8",
   "metadata": {},
   "source": [
    "### KMeans"
   ]
  },
  {
   "cell_type": "markdown",
   "id": "11f66273",
   "metadata": {},
   "source": [
    "### Using the elbow method to find the optimal number of clusters"
   ]
  },
  {
   "cell_type": "markdown",
   "id": "a7203556",
   "metadata": {},
   "source": [
    "I will try k_means with a number of clusters varying from 2 to 10\n",
    "\n",
    "    -Prepare two emptys lists for inertia and silhouette scores\n",
    "    -For each value of the number of clusters:\n",
    "        initialize an estimator for KMeans and fit_predict\n",
    "        we will store the distortion (from the fitted model) in the variable distortions\n",
    "        using the function silhouette_score from sklearn.metrics with arguments the data and the fitted labels, we will fill the variable silhouette_scores\n",
    "\n",
    "Then i will plot the two lists in the y axis, with the range of k in the x axis."
   ]
  },
  {
   "cell_type": "code",
   "execution_count": 165,
   "id": "NkIHmX1RBblh",
   "metadata": {
    "id": "NkIHmX1RBblh"
   },
   "outputs": [],
   "source": [
    "# Range of possible clusters\n",
    "k_range = range(2,10)\n",
    "\n",
    "# Distortion and Silhouette Score as measures\n",
    "distortions = []\n",
    "silhouette_scores = []\n",
    "\n",
    "for i in k_range:\n",
    "    km = KMeans(n_clusters = i,\n",
    "    init = 'k-means++',\n",
    "    n_init = 10,\n",
    "    max_iter = 300,\n",
    "    random_state = random_state)\n",
    "    y_km = km.fit_predict(df_p)\n",
    "    distortions.append(km.inertia_)\n",
    "    silhouette_scores.append(silhouette_score(df_p,y_km))"
   ]
  },
  {
   "cell_type": "code",
   "execution_count": 166,
   "id": "2rlgcnwFSbtu",
   "metadata": {
    "id": "2rlgcnwFSbtu"
   },
   "outputs": [
    {
     "data": {
      "image/png": "[encoded data removed]",
      "text/plain": [
       "<Figure size 432x288 with 2 Axes>"
      ]
     },
     "metadata": {
      "needs_background": "light"
     },
     "output_type": "display_data"
    }
   ],
   "source": [
    "#Plot distortion and silhouette indexes\n",
    "fig, ax1 = plt.subplots()\n",
    "\n",
    "color = 'tab:red'\n",
    "ax1.set_xlabel('Number of clusters')\n",
    "ax1.set_ylabel('Inertia', color=color)\n",
    "ax1.plot(k_range, distortions, color=color)\n",
    "ax1.tick_params(axis='y', labelcolor=color)\n",
    "\n",
    "ax2 = ax1.twinx()  # instantiate a second axes that shares the same x-axis\n",
    "\n",
    "color = 'tab:blue'\n",
    "ax2.set_ylabel('Silhouette scores', color=color)  # we already handled the x-label with ax1\n",
    "ax2.plot(k_range, silhouette_scores, color=color)\n",
    "ax2.tick_params(axis='y', labelcolor=color)\n",
    "ax2.set_ylim(0,1) # the axis for silhouette is [0,1]\n",
    "\n",
    "fig.tight_layout()  # otherwise the right y-label is slightly clipped\n",
    "plt.show()"
   ]
  },
  {
   "cell_type": "markdown",
   "id": "6184f9bf",
   "metadata": {},
   "source": [
    "The silhouette scores plot tell me that we obtain the best result with 3 clusters"
   ]
  },
  {
   "cell_type": "code",
   "execution_count": 167,
   "id": "31b5871a",
   "metadata": {},
   "outputs": [],
   "source": [
    "good_k = 3"
   ]
  },
  {
   "cell_type": "code",
   "execution_count": 168,
   "id": "6c3c4d9a",
   "metadata": {},
   "outputs": [],
   "source": [
    "km = KMeans(n_clusters=good_k, \n",
    "            init='k-means++', \n",
    "            n_init=10, \n",
    "            max_iter=300,\n",
    "            tol=1e-04,\n",
    "            random_state=random_state)\n",
    "y_km = km.fit_predict(df_p)"
   ]
  },
  {
   "cell_type": "code",
   "execution_count": 169,
   "id": "b66da9f7",
   "metadata": {},
   "outputs": [
    {
     "data": {
      "text/plain": [
       "array([[ 1.24233129e-01,  3.06748466e-03,  8.43558282e-02,\n",
       "         6.44171779e-01,  1.42638037e-01,  1.53374233e-03,\n",
       "         3.00613497e-01,  7.51533742e-02,  6.13496933e-03,\n",
       "         6.90184049e-02,  1.04294479e-01,  7.97546012e-02,\n",
       "         2.57668712e-01,  1.07361963e-01,  1.22699387e-01,\n",
       "         8.77300613e-01, -1.08420217e-19,  6.13496933e-03,\n",
       "         2.76073620e-02,  1.53374233e-03,  6.38036810e-01,\n",
       "         2.85276074e-01,  2.14723926e-02,  1.99386503e-02,\n",
       "         1.90876534e+03,  5.00168712e+01],\n",
       "       [ 8.98203593e-03, -7.58941521e-19,  5.98802395e-02,\n",
       "         8.55688623e-01,  7.54491018e-02, -3.79470760e-19,\n",
       "         4.80239521e-01,  1.74850299e-01,  9.58083832e-03,\n",
       "         3.17365269e-02,  2.39520958e-02,  7.96407186e-02,\n",
       "         1.34131737e-01,  6.58682635e-02,  1.85628743e-01,\n",
       "         8.13173653e-01,  1.19760479e-03,  2.75449102e-02,\n",
       "         6.52694611e-02,  1.25748503e-02,  3.59880240e-01,\n",
       "         4.70059880e-01,  3.11377246e-02,  3.35329341e-02,\n",
       "         1.99820719e+03,  6.32017964e+01],\n",
       "       [ 3.47826087e-01,  1.08420217e-19,  8.69565217e-02,\n",
       "         5.00000000e-01,  6.52173913e-02,  5.42101086e-20,\n",
       "         1.30434783e-01,  6.52173913e-02,  1.73472348e-18,\n",
       "         1.30434783e-01,  1.08695652e-01,  8.69565217e-02,\n",
       "         4.34782609e-01,  4.34782609e-02,  1.52173913e-01,\n",
       "         8.47826087e-01,  1.08420217e-19,  3.46944695e-18,\n",
       "         1.30434783e-01,  1.73472348e-18,  8.26086957e-01,\n",
       "         4.34782609e-02,  3.46944695e-18,  3.46944695e-18,\n",
       "         1.53991304e+03,  4.33913043e+01]])"
      ]
     },
     "execution_count": 169,
     "metadata": {},
     "output_type": "execute_result"
    }
   ],
   "source": [
    "km.cluster_centers_"
   ]
  },
  {
   "cell_type": "code",
   "execution_count": 170,
   "id": "f1930c5f",
   "metadata": {},
   "outputs": [
    {
     "data": {
      "image/png": "[encoded data removed]",
      "text/plain": [
       "<Figure size 432x288 with 1 Axes>"
      ]
     },
     "metadata": {
      "needs_background": "light"
     },
     "output_type": "display_data"
    }
   ],
   "source": [
    "plot_clusters(df1_p,y_km,dim=(focus[0],focus[1]), points = km.cluster_centers_)"
   ]
  },
  {
   "cell_type": "code",
   "execution_count": 171,
   "id": "0cf5489d",
   "metadata": {},
   "outputs": [
    {
     "name": "stdout",
     "output_type": "stream",
     "text": [
      "Distortion: 3653146.33\n"
     ]
    }
   ],
   "source": [
    "print('Distortion: %.2f' % km.inertia_)"
   ]
  },
  {
   "cell_type": "markdown",
   "id": "b2fd8b46",
   "metadata": {},
   "source": [
    "### Quantifying the quality of clustering via silhouette plots"
   ]
  },
  {
   "cell_type": "markdown",
   "id": "e82d697d",
   "metadata": {},
   "source": [
    "The silhouette scores for the individual samples are computed with the function silhouette_samples\n",
    "\n",
    "The function plot_silhouette produces a 'horizontal bar-plot', with one bar for each sample, where the length of the bar is proportional to the silhouette score of the sample. The bars are grouped for cluster and sorted for decreasing length.\n",
    "\n",
    "A vertical line represents the silhouette score, i.e. the average on all the samples."
   ]
  },
  {
   "cell_type": "code",
   "execution_count": 172,
   "id": "286d07aa",
   "metadata": {},
   "outputs": [
    {
     "data": {
      "image/png": "[encoded data removed]",
      "text/plain": [
       "<Figure size 432x288 with 1 Axes>"
      ]
     },
     "metadata": {
      "needs_background": "light"
     },
     "output_type": "display_data"
    }
   ],
   "source": [
    "cluster_labels = np.unique(y_km)\n",
    "n_clusters = cluster_labels.shape[0] # it is the number of rows\n",
    "# Compute the Silhouette Coefficient for each sample, with the euclidean metric\n",
    "silhouette_score_samples = silhouette_samples(df1_p, y_km, metric='euclidean')\n",
    "plt.title('Silhouette score for samples with {} clusters'.format(good_k))\n",
    "plot_silhouette(silhouette_score_samples, y_km)"
   ]
  },
  {
   "cell_type": "code",
   "execution_count": 173,
   "id": "6cb500b5",
   "metadata": {},
   "outputs": [
    {
     "name": "stdout",
     "output_type": "stream",
     "text": [
      "PowerTransformer()\n",
      "[-3.05026947e+01 -1.70815093e+03 -2.14860667e+01  6.55046094e+00\n",
      " -1.53849114e+01 -3.41630196e+03 -1.33462817e+00 -9.85790309e+00\n",
      " -1.70815100e+02 -3.28490562e+01 -3.02327588e+01 -1.80748507e+01\n",
      " -8.12402131e+00 -1.87703431e+01 -8.46172898e+00  8.41545088e+00\n",
      " -1.70815093e+03 -6.83260349e+01 -2.56864717e+01 -1.55286445e+02\n",
      " -9.49906507e-01 -1.57291630e+00 -5.17621502e+01 -4.95116199e+01\n",
      "  2.51142493e+01  1.09706991e+00]\n"
     ]
    }
   ],
   "source": [
    "pt = PowerTransformer()\n",
    "print(pt.fit(df1_p))\n",
    "print(pt.lambdas_)"
   ]
  },
  {
   "cell_type": "code",
   "execution_count": 174,
   "id": "ea20f8b9",
   "metadata": {},
   "outputs": [
    {
     "name": "stdout",
     "output_type": "stream",
     "text": [
      "[[-0.22281245 -0.02907419  3.72734245 ... -0.17324275 -0.95283245\n",
      "  -0.19117492]\n",
      " [-0.22281245 -0.02907419 -0.26828766 ... -0.17324275 -1.75499564\n",
      "  -0.51927145]\n",
      " [-0.22281245 -0.02907419 -0.26828766 ... -0.17324275  1.22310526\n",
      "  -0.19117492]\n",
      " ...\n",
      " [-0.22281245 -0.02907419 -0.26828766 ... -0.17324275  0.32445378\n",
      "   2.01275661]\n",
      " [-0.22281245 -0.02907419 -0.26828766 ... -0.17324275 -1.10944258\n",
      "   1.09542815]\n",
      " [-0.22281245 -0.02907419 -0.26828766 ... -0.17324275  0.22931354\n",
      "  -1.05758489]]\n"
     ]
    }
   ],
   "source": [
    "print(pt.transform(df1_p))"
   ]
  },
  {
   "cell_type": "code",
   "execution_count": 175,
   "id": "41a9cd0d",
   "metadata": {},
   "outputs": [
    {
     "name": "stdout",
     "output_type": "stream",
     "text": [
      "[[0.         0.         1.         ... 0.         0.91709845 0.40540541]\n",
      " [0.         0.         0.         ... 0.         0.84041451 0.35135135]\n",
      " [0.         0.         0.         ... 0.         0.99792746 0.40540541]\n",
      " ...\n",
      " [0.         0.         0.         ... 0.         0.97305699 0.75675676]\n",
      " [0.         0.         0.         ... 0.         0.90673575 0.61261261]\n",
      " [0.         0.         0.         ... 0.         0.96994819 0.26126126]]\n"
     ]
    }
   ],
   "source": [
    "scaler = MinMaxScaler()\n",
    "X_mms = scaler.fit_transform(df1_p)\n",
    "print(X_mms)"
   ]
  },
  {
   "cell_type": "code",
   "execution_count": 176,
   "id": "87368936",
   "metadata": {},
   "outputs": [],
   "source": [
    "good_k = 3\n",
    "km = KMeans(n_clusters=good_k, \n",
    "            init='k-means++', \n",
    "            n_init=10, \n",
    "            max_iter=300,\n",
    "            tol=1e-04,\n",
    "            random_state=random_state)\n",
    "y_km_mms = km.fit_predict(X_mms)"
   ]
  },
  {
   "cell_type": "code",
   "execution_count": 177,
   "id": "2fd48bfc",
   "metadata": {},
   "outputs": [
    {
     "data": {
      "text/plain": [
       "array([[ 1.11902340e-02, -1.51788304e-18,  2.64496439e-02,\n",
       "         9.14547304e-01,  4.78128179e-02, -7.58941521e-19,\n",
       "         4.22177009e-01,  1.85147508e-01,  1.01729400e-02,\n",
       "         4.37436419e-02,  3.96744659e-02,  7.12105799e-02,\n",
       "         1.68870804e-01,  5.90030519e-02,  1.38777878e-16,\n",
       "         9.98982706e-01,  1.01729400e-03,  3.25534079e-02,\n",
       "         8.03662258e-02,  1.01729400e-02,  1.33226763e-15,\n",
       "         7.94506612e-01,  4.06917599e-02,  4.17090539e-02,\n",
       "         9.60551131e-01,  4.74902166e-01],\n",
       "       [ 2.77078086e-02,  5.03778338e-03,  6.04534005e-02,\n",
       "         8.41309824e-01,  6.29722922e-02,  2.51889169e-03,\n",
       "         6.49874055e-01,  6.04534005e-02,  7.55667506e-03,\n",
       "         5.03778338e-02,  1.00755668e-02,  8.06045340e-02,\n",
       "         9.57178841e-02,  4.53400504e-02,  1.00000000e+00,\n",
       "        -2.22044605e-16,  8.67361738e-19,  1.25944584e-02,\n",
       "         4.53400504e-02,  1.00755668e-02,  3.82871537e-01,\n",
       "         4.83627204e-01,  3.27455919e-02,  3.27455919e-02,\n",
       "         9.52208924e-01,  4.27893889e-01],\n",
       "       [ 9.10931174e-02, -1.62630326e-18,  1.10323887e-01,\n",
       "         6.46761134e-01,  1.51821862e-01, -8.13151629e-19,\n",
       "         3.35020243e-01,  1.39676113e-01,  7.08502024e-03,\n",
       "         4.14979757e-02,  7.08502024e-02,  8.80566802e-02,\n",
       "         2.10526316e-01,  1.07287449e-01,  5.55111512e-17,\n",
       "         9.98987854e-01,  1.01214575e-03,  1.31578947e-02,\n",
       "         3.64372470e-02,  8.09716599e-03,  9.13967611e-01,\n",
       "        -1.44328993e-15,  1.31578947e-02,  1.51821862e-02,\n",
       "         9.23533175e-01,  3.96031659e-01]])"
      ]
     },
     "execution_count": 177,
     "metadata": {},
     "output_type": "execute_result"
    }
   ],
   "source": [
    "km.cluster_centers_"
   ]
  },
  {
   "cell_type": "code",
   "execution_count": 178,
   "id": "f9b11070",
   "metadata": {},
   "outputs": [
    {
     "data": {
      "image/png": "[encoded data removed]",
      "text/plain": [
       "<Figure size 432x288 with 1 Axes>"
      ]
     },
     "metadata": {
      "needs_background": "light"
     },
     "output_type": "display_data"
    }
   ],
   "source": [
    "plot_clusters(df1_p,y_km_mms,dim=(focus[0],focus[1]), points = km.cluster_centers_)"
   ]
  },
  {
   "cell_type": "markdown",
   "id": "b42f0bc1",
   "metadata": {},
   "source": [
    "### DBSCAN"
   ]
  },
  {
   "cell_type": "markdown",
   "id": "2ed7638e",
   "metadata": {},
   "source": [
    "Initialize, fit_predict and plot the clusters"
   ]
  },
  {
   "cell_type": "code",
   "execution_count": 179,
   "id": "9b393839",
   "metadata": {},
   "outputs": [
    {
     "name": "stdout",
     "output_type": "stream",
     "text": [
      "DBSCAN()\n"
     ]
    }
   ],
   "source": [
    "db = DBSCAN()\n",
    "y_db = db.fit_predict(df1_p)\n",
    "print(db)"
   ]
  },
  {
   "cell_type": "code",
   "execution_count": 180,
   "id": "670f207c",
   "metadata": {},
   "outputs": [
    {
     "name": "stdout",
     "output_type": "stream",
     "text": [
      "There is noise\n",
      "There is/are -1 cluster(s)\n"
     ]
    }
   ],
   "source": [
    "cluster_labels_all = np.unique(y_db)\n",
    "cluster_labels = cluster_labels_all[cluster_labels_all != -1]\n",
    "n_clusters = len(cluster_labels)\n",
    "if cluster_labels_all[0] == -1:\n",
    "    noise = True\n",
    "    print(\"There is noise\")\n",
    "else:\n",
    "    noise = False\n",
    "print(\"There is/are {} cluster(s)\".format(n_clusters-noise))"
   ]
  },
  {
   "cell_type": "code",
   "execution_count": 181,
   "id": "42445eb1",
   "metadata": {},
   "outputs": [
    {
     "data": {
      "image/png": "[encoded data removed]",
      "text/plain": [
       "<Figure size 432x288 with 1 Axes>"
      ]
     },
     "metadata": {
      "needs_background": "light"
     },
     "output_type": "display_data"
    }
   ],
   "source": [
    "cluster_centers = np.empty((n_clusters,df1_p.shape[1]))\n",
    "for i in cluster_labels:\n",
    "    cluster_centers[i,:] = np.mean(df1_p[y_db==i,:], axis = 0)\n",
    "plot_clusters(df1_p,y_db,dim=(focus[0],focus[1]), points = cluster_centers)"
   ]
  },
  {
   "cell_type": "code",
   "execution_count": null,
   "id": "1ba2b271",
   "metadata": {},
   "outputs": [],
   "source": []
  }
 ],
 "metadata": {
  "colab": {
   "provenance": []
  },
  "kernelspec": {
   "display_name": "Python 3 (ipykernel)",
   "language": "python",
   "name": "python3"
  },
  "language_info": {
   "codemirror_mode": {
    "name": "ipython",
    "version": 3
   },
   "file_extension": ".py",
   "mimetype": "text/x-python",
   "name": "python",
   "nbconvert_exporter": "python",
   "pygments_lexer": "ipython3",
   "version": "3.9.7"
  }
 },
 "nbformat": 4,
 "nbformat_minor": 5
}
